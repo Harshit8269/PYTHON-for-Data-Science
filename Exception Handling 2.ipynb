{
 "cells": [
  {
   "cell_type": "markdown",
   "id": "7ad2c44f-ddae-4901-8762-45ae6f63efbb",
   "metadata": {},
   "source": [
    "## Q1. Explain why we have to use the Exception class while creating a Custom Exception. Note: Here Exception class refers to the base class for all the exceptions."
   ]
  },
  {
   "cell_type": "markdown",
   "id": "f111e10a-3f81-4871-a9c0-e06a0090a3b3",
   "metadata": {},
   "source": [
    "## When creating a custom exception in Python, it is essential to use the Exception class as the base class for your custom exception class. This is because the Exception class provides a set of attributes and methods that are essential for any exception class to work correctly."
   ]
  },
  {
   "cell_type": "markdown",
   "id": "3f1b1d8d-787e-4502-9e2d-99b3cab162a1",
   "metadata": {},
   "source": [
    "## Q2. Write a python program to print Python Exception Hierarchy.\n"
   ]
  },
  {
   "cell_type": "code",
   "execution_count": 7,
   "id": "6da56ce4-23e0-45b7-9809-844d1734ea3c",
   "metadata": {},
   "outputs": [
    {
     "name": "stdout",
     "output_type": "stream",
     "text": [
      "ArithmeticError\n",
      "AssertionError\n",
      "AttributeError\n",
      "BlockingIOError\n",
      "BrokenPipeError\n",
      "BufferError\n",
      "BytesWarning\n",
      "ChildProcessError\n",
      "ConnectionAbortedError\n",
      "ConnectionError\n",
      "ConnectionRefusedError\n",
      "ConnectionResetError\n",
      "DeprecationWarning\n",
      "EOFError\n",
      "EncodingWarning\n",
      "EnvironmentError\n",
      "Exception\n",
      "FileExistsError\n",
      "FileNotFoundError\n",
      "FloatingPointError\n",
      "FutureWarning\n",
      "IOError\n",
      "ImportError\n",
      "ImportWarning\n",
      "IndentationError\n",
      "IndexError\n",
      "InterruptedError\n",
      "IsADirectoryError\n",
      "KeyError\n",
      "LookupError\n",
      "MemoryError\n",
      "ModuleNotFoundError\n",
      "NameError\n",
      "NotADirectoryError\n",
      "NotImplementedError\n",
      "OSError\n",
      "OverflowError\n",
      "PendingDeprecationWarning\n",
      "PermissionError\n",
      "ProcessLookupError\n",
      "RecursionError\n",
      "ReferenceError\n",
      "ResourceWarning\n",
      "RuntimeError\n",
      "RuntimeWarning\n",
      "StopAsyncIteration\n",
      "StopIteration\n",
      "SyntaxError\n",
      "SyntaxWarning\n",
      "SystemError\n",
      "TabError\n",
      "TimeoutError\n",
      "TypeError\n",
      "UnboundLocalError\n",
      "UnicodeDecodeError\n",
      "UnicodeEncodeError\n",
      "UnicodeError\n",
      "UnicodeTranslateError\n",
      "UnicodeWarning\n",
      "UserWarning\n",
      "ValueError\n",
      "Warning\n",
      "ZeroDivisionError\n"
     ]
    }
   ],
   "source": [
    "def print_exception_hierarchy():\n",
    "    exceptions = []\n",
    "    for exception in dir(__builtins__):\n",
    "        if isinstance(getattr(__builtins__ ,exception),type) and issubclass(getattr(__builtins__ ,exception),Exception):\n",
    "            exceptions.append(exception)\n",
    "            exceptions.sort()\n",
    "    for exception in exceptions:\n",
    "        print(exception)\n",
    "print_exception_hierarchy()               "
   ]
  },
  {
   "cell_type": "markdown",
   "id": "579072eb-f8e9-4a9d-9cc4-1ee1de43fb69",
   "metadata": {},
   "source": [
    "## Q3. What errors are defined in the ArithmeticError class? Explain any two with an example.\n"
   ]
  },
  {
   "cell_type": "markdown",
   "id": "1efa041d-8515-4158-aa9c-adfe45dd6a71",
   "metadata": {},
   "source": [
    "## The ArithmeticError class is used as a base class for exceptions that occur during arithmetic operations."
   ]
  },
  {
   "cell_type": "markdown",
   "id": "a21e6231-508c-49d2-ae8c-0a5afb1aff93",
   "metadata": {},
   "source": [
    "### ZeroDivisionError: This exception is raised when attempting to divide a number by zero."
   ]
  },
  {
   "cell_type": "code",
   "execution_count": 22,
   "id": "2e74c44f-99b7-43b4-88b8-ba48e8b91821",
   "metadata": {},
   "outputs": [
    {
     "name": "stdout",
     "output_type": "stream",
     "text": [
      "division by zero\n"
     ]
    }
   ],
   "source": [
    "\n",
    "try:\n",
    "    result = 10 / 0\n",
    "except ZeroDivisionError as e:\n",
    "    print(e)\n"
   ]
  },
  {
   "cell_type": "markdown",
   "id": "26360b71-40e2-4463-b81a-2517340b70de",
   "metadata": {},
   "source": [
    "### FloatingPointError: This exception is raised when a floating point operation fails to produce a finite result."
   ]
  },
  {
   "cell_type": "code",
   "execution_count": 34,
   "id": "0e5338d5-aa36-43b7-9970-c0f0de0f3aff",
   "metadata": {},
   "outputs": [
    {
     "name": "stdout",
     "output_type": "stream",
     "text": [
      "math domain error\n"
     ]
    }
   ],
   "source": [
    "import math\n",
    "try :\n",
    "    r = math.sqrt(-1)\n",
    "except Exception as e:\n",
    "    print(e)"
   ]
  },
  {
   "cell_type": "markdown",
   "id": "72d16566-7338-4d5f-b269-30d982d86d05",
   "metadata": {},
   "source": [
    "## Q4. Why LookupError class is used? Explain with an example KeyError and IndexError.\n"
   ]
  },
  {
   "cell_type": "markdown",
   "id": "6bccb241-fd0c-4c32-be1c-6033f97507e4",
   "metadata": {},
   "source": [
    "### The LookupError class is used as a base class for exceptions that occur when a specified key or index is not found in a collection or sequence."
   ]
  },
  {
   "cell_type": "markdown",
   "id": "d43db6c1-c1ee-4063-a948-6f651c22ecd6",
   "metadata": {},
   "source": [
    "### KeyError is raised when a specified key is not found in a dictionary. \n"
   ]
  },
  {
   "cell_type": "code",
   "execution_count": 3,
   "id": "3576b86f-19cc-4cc8-9db1-49f25e8ecb10",
   "metadata": {},
   "outputs": [
    {
     "name": "stdout",
     "output_type": "stream",
     "text": [
      "Key not found\n"
     ]
    }
   ],
   "source": [
    "d = {'a': 1, 'b': 2, 'c': 3}\n",
    "try:\n",
    "    value = d['d']\n",
    "except KeyError:\n",
    "    print(\"Key not found\")\n"
   ]
  },
  {
   "cell_type": "markdown",
   "id": "8b89246e-06f3-49f7-8402-b0a2e61580c3",
   "metadata": {},
   "source": [
    "### IndexError is raised when a specified index is not found in a sequence such as a list, tuple or string."
   ]
  },
  {
   "cell_type": "code",
   "execution_count": 5,
   "id": "147e1f56-45a1-4b5f-8b31-d37cc805e8df",
   "metadata": {},
   "outputs": [
    {
     "name": "stdout",
     "output_type": "stream",
     "text": [
      "Index not found\n"
     ]
    }
   ],
   "source": [
    "my_list = [1, 2, 3]\n",
    "try:\n",
    "    value = my_list[3]\n",
    "except IndexError:\n",
    "    print(\"Index not found\")\n"
   ]
  },
  {
   "cell_type": "markdown",
   "id": "558d7190-8631-4eda-aa27-dcb23a13ef2c",
   "metadata": {},
   "source": [
    "## Q5. Explain ImportError. What is ModuleNotFoundError?\n"
   ]
  },
  {
   "cell_type": "markdown",
   "id": "0b08ff03-521e-4758-b8ea-559adbdc38bb",
   "metadata": {},
   "source": [
    "### Import Error happens when we import a library or package which is not supported .\n",
    "### ModuleNotFoundError happens when we import a Module which does not exist."
   ]
  },
  {
   "cell_type": "markdown",
   "id": "2a981622-15c6-4feb-8d4d-5a0e5919c702",
   "metadata": {},
   "source": [
    "## Q6. List down some best practices for exception handling in python."
   ]
  },
  {
   "cell_type": "markdown",
   "id": "d92258f6-9be1-446b-96b4-e555edbbdd10",
   "metadata": {},
   "source": [
    "### 1.Write Proper Error message\n",
    "### 2.Use Specialize Exception rather than Generalize\n",
    "### 3.always create a Log file for error message\n",
    "### 4.Close all running resources"
   ]
  }
 ],
 "metadata": {
  "kernelspec": {
   "display_name": "Python 3 (ipykernel)",
   "language": "python",
   "name": "python3"
  },
  "language_info": {
   "codemirror_mode": {
    "name": "ipython",
    "version": 3
   },
   "file_extension": ".py",
   "mimetype": "text/x-python",
   "name": "python",
   "nbconvert_exporter": "python",
   "pygments_lexer": "ipython3",
   "version": "3.10.8"
  }
 },
 "nbformat": 4,
 "nbformat_minor": 5
}
