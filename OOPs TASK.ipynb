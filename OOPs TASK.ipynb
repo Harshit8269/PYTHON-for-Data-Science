{
 "cells": [
  {
   "cell_type": "markdown",
   "id": "203d5444-4afa-4493-acc8-d36b8a11b73b",
   "metadata": {},
   "source": [
    "## Q1, Create a vehicle class with an init method having instance variables as name_of_vehicle, max_speed and average_of_vehicle."
   ]
  },
  {
   "cell_type": "code",
   "execution_count": 3,
   "id": "7edc3394-7a9a-4e49-a328-7215a25591b8",
   "metadata": {},
   "outputs": [],
   "source": [
    "class vehicle:\n",
    "    \n",
    "    def __init__(self, name_of_vehicle , max_speed ,average_of_vehicle):\n",
    "        self.name_of_vehicle = name_of_vehicle\n",
    "        self.max_speed = max_speed\n",
    "        self.average_of_vehicle = average_of_vehicle"
   ]
  },
  {
   "cell_type": "markdown",
   "id": "2322fcd5-09de-41d2-9b5c-3e112e314e5e",
   "metadata": {},
   "source": [
    "## Q2. Create a child class car from the vehicle class created in Que 1, which will inherit the vehicle class.Create a method named seating_capacity which takes capacity as an argument and returns the name of the vehicle and its seating capacity."
   ]
  },
  {
   "cell_type": "code",
   "execution_count": 5,
   "id": "a256f650-9e23-4f70-9ccc-7099b984f1cd",
   "metadata": {},
   "outputs": [],
   "source": [
    "class car(vehicle):\n",
    "    \n",
    "    def seating_capacity(self, capacity):\n",
    "        self.capacity = capacity\n",
    "        return self.name_of_vehicle, self.capacity"
   ]
  },
  {
   "cell_type": "markdown",
   "id": "c6568b06-a2e7-4b04-8562-98658521ea92",
   "metadata": {},
   "source": [
    "## Q3. What is multiple inheritance? Write a python code to demonstrate multiple inheritance."
   ]
  },
  {
   "cell_type": "markdown",
   "id": "692cf818-2376-4e58-a744-eb4399e6ad94",
   "metadata": {},
   "source": [
    "### When a class is derived from more than one base class it is called multiple Inheritance. The derived class inherits all the features of the base case."
   ]
  },
  {
   "cell_type": "code",
   "execution_count": 11,
   "id": "b12a8d5a-f1d4-479c-86c7-199ff16e02ef",
   "metadata": {},
   "outputs": [
    {
     "name": "stdout",
     "output_type": "stream",
     "text": [
      "This is class mom\n",
      "This is class dad\n"
     ]
    }
   ],
   "source": [
    "## Example of multiple Inheritance\n",
    "class mom:\n",
    "    \n",
    "    def m(self):\n",
    "        print(\"This is class mom\")\n",
    "        \n",
    "class dad:\n",
    "    \n",
    "    def d(self):\n",
    "        print(\"This is class dad\")\n",
    "        \n",
    "class child(mom,dad):\n",
    "    pass\n",
    "\n",
    "obj = child()\n",
    "obj.m()\n",
    "obj.d()"
   ]
  },
  {
   "cell_type": "markdown",
   "id": "aceb8bf3-1a79-410f-a28d-3ea7ce696e2d",
   "metadata": {},
   "source": [
    "## Q4. What are getter and setter in python? Create a class and create a getter and a setter method in this class."
   ]
  },
  {
   "cell_type": "markdown",
   "id": "4b345c3b-bcf7-4be7-87ab-d0d3a0fd927e",
   "metadata": {},
   "source": [
    "### Getter is the methods used in class to get the value of variables in a class and Setter is used to set the different value of that variable."
   ]
  },
  {
   "cell_type": "code",
   "execution_count": 31,
   "id": "9d5d5f69-3137-476d-bc1c-535b38ae8af4",
   "metadata": {},
   "outputs": [
    {
     "name": "stdout",
     "output_type": "stream",
     "text": [
      "17\n",
      "21\n",
      "21\n"
     ]
    }
   ],
   "source": [
    "class men:\n",
    "    def __init__(self, age):\n",
    "         self._age = age\n",
    "      \n",
    "    # getter method\n",
    "    def get_age(self):\n",
    "        return self._age\n",
    "      \n",
    "    # setter method\n",
    "    def set_age(self, x):\n",
    "        self._age = x\n",
    "  \n",
    "harsh = men(17)\n",
    "print(harsh._age)\n",
    "harsh.set_age(21)\n",
    "  \n",
    "print(harsh.get_age())\n",
    "  \n",
    "print(harsh._age)"
   ]
  },
  {
   "cell_type": "markdown",
   "id": "681dae53-af71-4e7c-8070-e710477aa625",
   "metadata": {},
   "source": [
    "## Q5.What is method overriding in python? Write a python code to demonstrate method overriding."
   ]
  },
  {
   "cell_type": "markdown",
   "id": "5c552287-4fdf-40b2-9d27-566ef075d140",
   "metadata": {},
   "source": [
    "### Method overriding is happened when you have two methods with the same name that each perform different tasks. the child class has access to the properties and functions of the parent class method while also extending additional functions of its own to the method. "
   ]
  },
  {
   "cell_type": "code",
   "execution_count": null,
   "id": "b8748f31-dea9-4eb2-b73c-f21fa1823a86",
   "metadata": {},
   "outputs": [],
   "source": [
    "## Example\n",
    "class Animal:\n",
    "    def eat(self):\n",
    "        print('This is the parent class')\n",
    "\n",
    "class Dog(Animal):\n",
    "    def eat(self):\n",
    "        print('This is the child class')\n",
    "        \n",
    "r = Dog()\n",
    "r.Walk()\n",
    "\n",
    "r = Animal()\n",
    "r.Walk()"
   ]
  }
 ],
 "metadata": {
  "kernelspec": {
   "display_name": "Python 3 (ipykernel)",
   "language": "python",
   "name": "python3"
  },
  "language_info": {
   "codemirror_mode": {
    "name": "ipython",
    "version": 3
   },
   "file_extension": ".py",
   "mimetype": "text/x-python",
   "name": "python",
   "nbconvert_exporter": "python",
   "pygments_lexer": "ipython3",
   "version": "3.10.8"
  }
 },
 "nbformat": 4,
 "nbformat_minor": 5
}
