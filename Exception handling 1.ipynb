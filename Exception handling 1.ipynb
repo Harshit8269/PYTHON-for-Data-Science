{
 "cells": [
  {
   "cell_type": "markdown",
   "id": "0c71b8d0-3227-4ffe-9771-452870848de3",
   "metadata": {},
   "source": [
    "## Q1. What is an Exception in python? Write the difference between Exceptions and syntax errors"
   ]
  },
  {
   "cell_type": "markdown",
   "id": "cd3a397a-5b60-406f-a5ce-9358a4a834c4",
   "metadata": {},
   "source": [
    "### An exception is an event, which occurs during the execution of a program that disrupts the normal flow of the program's instructions."
   ]
  },
  {
   "cell_type": "markdown",
   "id": "7dbfe33e-d88d-4cb5-81ee-a9f9703cf874",
   "metadata": {},
   "source": [
    "###  An error is an issue in a program that prevents the program from completing its task. In comparison, an exception is a condition that interrupts the normal flow of the program."
   ]
  },
  {
   "cell_type": "markdown",
   "id": "9a25cad9-470d-4be5-b6ab-d372cf3bd330",
   "metadata": {},
   "source": [
    "## Q2. What happens when an exception is not handled? Explain with an example"
   ]
  },
  {
   "cell_type": "markdown",
   "id": "1811a28f-016e-48bd-b4b1-d72f1e234b1c",
   "metadata": {},
   "source": [
    "### If the exception is not handled by an except clause, the exception is re-raised after the finally clause has been executed."
   ]
  },
  {
   "cell_type": "code",
   "execution_count": 1,
   "id": "858b5b14-4d90-4ff1-a777-315dbcf74bf3",
   "metadata": {},
   "outputs": [
    {
     "name": "stdout",
     "output_type": "stream",
     "text": [
      "Denominator cannot be 0.\n"
     ]
    }
   ],
   "source": [
    "try :\n",
    "    n = 10\n",
    "    d = 0\n",
    "    r = n/d\n",
    "    print(r)\n",
    "except Exception as e:\n",
    "    print(\"Denominator cannot be 0.\")\n",
    "    "
   ]
  },
  {
   "cell_type": "markdown",
   "id": "49489fc2-802a-48d5-b929-4593ca37ad04",
   "metadata": {},
   "source": [
    "## Q3. Which Python statements are used to catch and handle exceptions? Explain with an example"
   ]
  },
  {
   "cell_type": "markdown",
   "id": "85098295-0b5e-4b6c-9b99-49277ac7d649",
   "metadata": {},
   "source": [
    "### Try and except blocks are used in python to catch and handle exceptions"
   ]
  },
  {
   "cell_type": "code",
   "execution_count": 3,
   "id": "677c5361-94a8-4eb4-afe4-83538a41dc8a",
   "metadata": {},
   "outputs": [
    {
     "name": "stdout",
     "output_type": "stream",
     "text": [
      "Index out of range\n"
     ]
    }
   ],
   "source": [
    "try :\n",
    "    list1 = [1,2,3,4,5,6]\n",
    "    print(list1[6])\n",
    "except Exception as e:\n",
    "    print(\"Index out of range\")"
   ]
  },
  {
   "cell_type": "markdown",
   "id": "d136d6e0-d743-4b22-84ee-6c66115ff2f2",
   "metadata": {},
   "source": [
    "## Q4. Explain with an example:\n",
    "## 1. try and else\n",
    "## 2. finally \n",
    "## 3. raise"
   ]
  },
  {
   "cell_type": "code",
   "execution_count": 4,
   "id": "8a51222f-5b7d-40e6-af1e-c5909c2c234f",
   "metadata": {},
   "outputs": [
    {
     "name": "stdout",
     "output_type": "stream",
     "text": [
      "You didn't created the file\n"
     ]
    }
   ],
   "source": [
    "try: \n",
    "    ## try is used to check the code which may occur errors.\n",
    "    f = open(\"test1.txt\",'r')\n",
    "except Exception as e :\n",
    "    ## except is used to run the code which will fail in try block.\n",
    "    print(\"You didn't created the file\")"
   ]
  },
  {
   "cell_type": "code",
   "execution_count": 5,
   "id": "5ecc57f7-1b32-48c8-86f5-c732ec3a06d3",
   "metadata": {},
   "outputs": [
    {
     "name": "stdout",
     "output_type": "stream",
     "text": [
      "You didn't created the file\n",
      "This is finally block\n"
     ]
    }
   ],
   "source": [
    "try: \n",
    "    ## try is used to check the code which may occur errors.\n",
    "    f = open(\"test1.txt\",'r')\n",
    "except Exception as e :\n",
    "    ## except is used to run the code which will fail in try block.\n",
    "    print(\"You didn't created the file\")\n",
    "finally:\n",
    "    ## finally will run this block whether try will pass or fail.\n",
    "    print(\"This is finally block\")"
   ]
  },
  {
   "cell_type": "code",
   "execution_count": 8,
   "id": "a180f1fa-5661-47ae-bae3-b8465aa3ef8f",
   "metadata": {},
   "outputs": [
    {
     "name": "stdin",
     "output_type": "stream",
     "text": [
      "Enter your marks :  24\n"
     ]
    }
   ],
   "source": [
    "class ValidateMarks(Exception):\n",
    "    \n",
    "    def __init__(self, msg):\n",
    "        self.msg = msg\n",
    "        \n",
    "def marks_Validate(marks):\n",
    "    if marks > 100:\n",
    "        raise ValidateMarks(\"Marks can't be more than 100 \")\n",
    "        \n",
    "try :\n",
    "    marks = int(input(\"Enter your marks : \"))\n",
    "    marks_Validate(marks)\n",
    "except ValidateMarks as e :\n",
    "    print(e)"
   ]
  },
  {
   "cell_type": "markdown",
   "id": "a4678292-c959-4c31-b00c-cef04b310334",
   "metadata": {},
   "source": [
    "## Q5. What are Custom Exceptions in python? Why do we need Custom Exceptions? Explain with an example"
   ]
  },
  {
   "cell_type": "markdown",
   "id": "e3417e02-ff4d-4f50-9ded-132d72f29c9a",
   "metadata": {},
   "source": [
    "### Custom exceptions are used in that conditions when we don't have a predefined exceptions and which is specific for our needs."
   ]
  },
  {
   "cell_type": "code",
   "execution_count": 11,
   "id": "f36f98f8-0521-4f9d-9a26-878bc7a1afa4",
   "metadata": {},
   "outputs": [
    {
     "name": "stdin",
     "output_type": "stream",
     "text": [
      "Enter your age :  -87\n"
     ]
    },
    {
     "name": "stdout",
     "output_type": "stream",
     "text": [
      "age can't be negative\n"
     ]
    }
   ],
   "source": [
    "class ValidateAdult(Exception):\n",
    "    \n",
    "    def __init__(self, msg):\n",
    "        self.msg = msg\n",
    "        \n",
    "def age_check(age):\n",
    "    if age < 18 and age > 0 :\n",
    "        raise ValidateAdult(\" You are not 18+ \")\n",
    "    elif age < 0:\n",
    "        raise ValidateAdult(\"age can't be negative\")\n",
    "    elif age > 200 :\n",
    "        raise ValidateAdult(\" Age is very high\")\n",
    "        \n",
    "try :\n",
    "    age = int(input(\"Enter your age : \"))\n",
    "    age_check(age)\n",
    "except ValidateAdult as e :\n",
    "    print(e)"
   ]
  },
  {
   "cell_type": "markdown",
   "id": "f51c136f-782b-4cdc-81f3-873acc5e8d9c",
   "metadata": {},
   "source": [
    "## Q6. Create a custom exception class. Use this class to handle an exception."
   ]
  },
  {
   "cell_type": "code",
   "execution_count": 15,
   "id": "7fa66041-f0ca-497d-8bfd-d5a5583060ef",
   "metadata": {},
   "outputs": [
    {
     "name": "stdout",
     "output_type": "stream",
     "text": [
      " length of List can't be more than 5 \n"
     ]
    }
   ],
   "source": [
    "class Validate_list(Exception):\n",
    "    \n",
    "    def __init__(self, msg):\n",
    "        self.msg = msg\n",
    "        \n",
    "def list_check(list):\n",
    "    if len(list) > 5  :\n",
    "        raise Validate_list(\" length of List can't be more than 5 \")\n",
    "\n",
    "try :\n",
    "    list1 = [2,3,6,8,9,0]\n",
    "    list_check(list1)\n",
    "    print(list1)\n",
    "except Validate_list as e :\n",
    "    print(e)"
   ]
  },
  {
   "cell_type": "code",
   "execution_count": null,
   "id": "5a02b0b4-0fc6-4bfb-81c5-cc2ea3526580",
   "metadata": {},
   "outputs": [],
   "source": []
  }
 ],
 "metadata": {
  "kernelspec": {
   "display_name": "Python 3 (ipykernel)",
   "language": "python",
   "name": "python3"
  },
  "language_info": {
   "codemirror_mode": {
    "name": "ipython",
    "version": 3
   },
   "file_extension": ".py",
   "mimetype": "text/x-python",
   "name": "python",
   "nbconvert_exporter": "python",
   "pygments_lexer": "ipython3",
   "version": "3.10.8"
  }
 },
 "nbformat": 4,
 "nbformat_minor": 5
}
