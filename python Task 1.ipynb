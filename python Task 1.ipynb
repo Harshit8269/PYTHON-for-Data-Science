{
 "cells": [
  {
   "cell_type": "markdown",
   "id": "64871fc7-5bce-4050-9188-2ae242db9e7b",
   "metadata": {},
   "source": [
    "## Q1. Create a function which will take a list as an argument and return the product of all the numbers after creating a flat list.\n",
    "## Use the below-given list as an argument for your function.\n",
    "## list1 = [1,2,3,4, [44,55,66, True], False, (34,56,78,89,34), {1,2,3,3,2,1}, {1:34, \"key2\": [55, 67, 78, 89],4: (45,22, 61, 34)}, [56, 'data science'], 'Machine Learning']\n",
    "## Note: you must extract numeric keys and values of the dictionary also."
   ]
  },
  {
   "cell_type": "code",
   "execution_count": 20,
   "id": "11555b5c-6aa0-4942-9280-00c72bf327ac",
   "metadata": {},
   "outputs": [
    {
     "name": "stdout",
     "output_type": "stream",
     "text": [
      "Final product of all numbers in the list is 4134711838987085478833841242112000\n"
     ]
    }
   ],
   "source": [
    "list1 = [1,2,3,4, [44,55,66, True], False, (34,56,78,89,34), {1,2,3,3,2,1},\n",
    "         {1:34, \"key2\": [55, 67, 78, 89],4: (45,22, 61, 34)}, [56, 'data science'], 'Machine Learning']\n",
    "\n",
    "def func(l):\n",
    "    l1 = []\n",
    "    for i in l:\n",
    "        if type(i) == int:\n",
    "            l1.append(i)\n",
    "        elif type(i) == list or type(i) == tuple or type(i) == set:\n",
    "            for j in i:\n",
    "                if type(j) == int:\n",
    "                    l1.append(j)\n",
    "        elif type(i) == dict:\n",
    "            for j in i.keys():\n",
    "                if type(j) == int:\n",
    "                    l1.append(j)\n",
    "            for j in i.values():\n",
    "                if type(j) == int:\n",
    "                    l1.append(j)\n",
    "                elif type(j) == list or type(j) == tuple or type(j) == set:\n",
    "                    for k in j:\n",
    "                        if type(k) == int:\n",
    "                            l1.append(k)\n",
    "    prod = 1\n",
    "    for i in l1:\n",
    "        prod = prod * i\n",
    "    return prod\n",
    "print(f'Final product of all numbers in the list is {func(list1)}')\n",
    "      \n",
    "## Note this function doesnot count numbers in a set multiple times      "
   ]
  },
  {
   "cell_type": "markdown",
   "id": "9da2fc25-f0f3-4764-aa0f-904d0741ba2e",
   "metadata": {},
   "source": [
    "## Q2. Write a python program for encrypting a message sent to you by your friend. The logic of encryption should be such that, for a the output should be z. For b, the output should be y. For c, the output should be x respectively. Also, the whitespace should be replaced with a dollar sign. Keep the punctuation hmarks unchanged. \n",
    "## Input Sentence: I want to become a Data Scientist.\n",
    "## Encrypt the above input sentence using the program you just created.\n",
    "## Note: Convert the given input sentence into lowercase before encrypting. The final output should be lowercase."
   ]
  },
  {
   "cell_type": "code",
   "execution_count": 22,
   "id": "5a329a32-a0dc-4057-b68b-218c918562de",
   "metadata": {},
   "outputs": [
    {
     "name": "stdin",
     "output_type": "stream",
     "text": [
      "Enter your message : I want to become a Data Scientist.\n"
     ]
    },
    {
     "name": "stdout",
     "output_type": "stream",
     "text": [
      "Encripted Message :i wznt to yexome z dztz sxientist.\n"
     ]
    }
   ],
   "source": [
    "inp_msg = input(\"Enter your message :\")\n",
    "ans = inp_msg.lower().replace('a','z').replace('b','y').replace('c', 'x')\n",
    "print(f'Encripted Message :{ans}')"
   ]
  },
  {
   "cell_type": "code",
   "execution_count": null,
   "id": "cee2f850-7696-490f-a74f-b09e235181af",
   "metadata": {},
   "outputs": [],
   "source": []
  }
 ],
 "metadata": {
  "kernelspec": {
   "display_name": "Python 3 (ipykernel)",
   "language": "python",
   "name": "python3"
  },
  "language_info": {
   "codemirror_mode": {
    "name": "ipython",
    "version": 3
   },
   "file_extension": ".py",
   "mimetype": "text/x-python",
   "name": "python",
   "nbconvert_exporter": "python",
   "pygments_lexer": "ipython3",
   "version": "3.10.8"
  }
 },
 "nbformat": 4,
 "nbformat_minor": 5
}
