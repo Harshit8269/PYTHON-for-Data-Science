{
 "cells": [
  {
   "cell_type": "markdown",
   "id": "6f89bb72-b7ed-49d1-8768-64329119c008",
   "metadata": {},
   "source": [
    "## Q1. What is Abstraction in OOps? Explain with an example."
   ]
  },
  {
   "cell_type": "markdown",
   "id": "fb27e84f-0d6c-408b-b7e4-eccf2039696f",
   "metadata": {},
   "source": [
    "### Abstraction is used to hide the internal functionality from the users.In Python, an abstraction is used to hide the irrelevant data/class in order to reduce the complexity of the code."
   ]
  },
  {
   "cell_type": "code",
   "execution_count": 10,
   "id": "d19042a4-ddee-44f5-8cba-ffc25a9bb87d",
   "metadata": {},
   "outputs": [
    {
     "name": "stdout",
     "output_type": "stream",
     "text": [
      "tiger's weight 120kg\n"
     ]
    }
   ],
   "source": [
    "import abc \n",
    "class wild_cats():\n",
    "    @abc.abstractmethod\n",
    "    def weight(self):\n",
    "        pass\n",
    "    \n",
    "class lion(wild_cats):\n",
    "    def weight(self):\n",
    "        print(\"lion's weight 150kg\")\n",
    "class tiger(wild_cats):\n",
    "    def weight(self):\n",
    "        print(\"tiger's weight 120kg\")\n",
    "        \n",
    "obj = tiger()        \n",
    "obj.weight()"
   ]
  },
  {
   "cell_type": "markdown",
   "id": "6001315b-4bda-4ee2-bf14-f9ed90b0f647",
   "metadata": {},
   "source": [
    "## Q2. Differentiate between Abstraction and Encapsulation. Explain with an example."
   ]
  },
  {
   "cell_type": "markdown",
   "id": "224199e3-9724-4e55-802e-8ff861c8ddd7",
   "metadata": {},
   "source": [
    "### Abstraction is used to hide the details and implimentation of code while Encapsulation is used to store or placing data and methods in a single place. \n",
    "\n",
    "### Abstraction is about hiding unwanted details while showing most essential information while Encapsulation means binding the code and data into a single unit."
   ]
  },
  {
   "cell_type": "code",
   "execution_count": 2,
   "id": "6bc5accd-35a3-45d1-850b-a12a5edcab82",
   "metadata": {},
   "outputs": [
    {
     "name": "stdout",
     "output_type": "stream",
     "text": [
      "50 Apples\n"
     ]
    }
   ],
   "source": [
    "## Example of Abstraction\n",
    "import abc\n",
    "class fruit():\n",
    "    # abstraction\n",
    "    @abc.abstractmethod\n",
    "    def quantity(self):\n",
    "        pass\n",
    "    \n",
    "class Apple(fruit):\n",
    "    def quantity(self):\n",
    "        print(\"50 Apples\")\n",
    "class Mango(fruit):\n",
    "    def quantity(self):\n",
    "        print(\"30 mangoes\")\n",
    "        \n",
    "obj = Apple()        \n",
    "obj.quantity()"
   ]
  },
  {
   "cell_type": "code",
   "execution_count": 3,
   "id": "d76ba73e-3d32-4d44-8b2c-8d2e97174cbd",
   "metadata": {},
   "outputs": [
    {
     "name": "stdout",
     "output_type": "stream",
     "text": [
      "Name:  harshit Salary: 10000\n",
      "harshit is working on ML\n"
     ]
    }
   ],
   "source": [
    "## Example of Encapsulation\n",
    "class Employee:\n",
    "    # constructor\n",
    "    def __init__(self, name, salary, project):\n",
    "        # data members\n",
    "        self.name = name\n",
    "        self.salary = salary\n",
    "        self.project = project\n",
    "\n",
    "\n",
    "    def show(self):\n",
    "        print(\"Name: \", self.name, 'Salary:', self.salary)\n",
    "\n",
    "    \n",
    "    def work(self):\n",
    "        print(self.name, 'is working on', self.project)\n",
    "\n",
    "\n",
    "emp = Employee('harshit', 10000, 'ML')\n",
    "emp.show()\n",
    "emp.work()"
   ]
  },
  {
   "cell_type": "markdown",
   "id": "68762c58-3ee5-40e8-acfa-527344b2738f",
   "metadata": {},
   "source": [
    "## Q3. What is abc module in python? Why is it used?"
   ]
  },
  {
   "cell_type": "markdown",
   "id": "8c3c0ec3-21a9-4212-8ea3-3bd804024c60",
   "metadata": {},
   "source": [
    "### python has a module called abc(abstract base class) which offers abstraction in python. It is used by marking methods of the base class as abstract, and then registering concrete classes as implementations of the abstract base."
   ]
  },
  {
   "cell_type": "markdown",
   "id": "04d134ab-b671-4a92-99ef-04c1a5da705a",
   "metadata": {},
   "source": [
    "## Q4. How can we achieve data abstraction?"
   ]
  },
  {
   "cell_type": "markdown",
   "id": "5a75393f-d751-4d19-a3a6-45e2a0cfb70d",
   "metadata": {},
   "source": [
    "### Data Abstraction can be acheived by using abc module where you have to write '@abc abstract' above the method or variable you want to abstract. "
   ]
  },
  {
   "cell_type": "markdown",
   "id": "6b6c1422-f24b-49c4-b753-4d5401d889be",
   "metadata": {},
   "source": [
    "## Q5. Can we create an instance of an abstract class? Explain your answer."
   ]
  },
  {
   "cell_type": "markdown",
   "id": "b29f60ee-efc1-4375-bbab-7087e102cd98",
   "metadata": {},
   "source": [
    "### No, we cannot create an instance of an abstract class in Python. An abstract class is a class that is meant to be inherited by other classes, and it is designed to provide a common interface or set of methods that its subclasses must implement. An abstract class cannot be instantiated because it is not fully defined and does not provide complete implementations of its methods."
   ]
  }
 ],
 "metadata": {
  "kernelspec": {
   "display_name": "Python 3 (ipykernel)",
   "language": "python",
   "name": "python3"
  },
  "language_info": {
   "codemirror_mode": {
    "name": "ipython",
    "version": 3
   },
   "file_extension": ".py",
   "mimetype": "text/x-python",
   "name": "python",
   "nbconvert_exporter": "python",
   "pygments_lexer": "ipython3",
   "version": "3.10.8"
  }
 },
 "nbformat": 4,
 "nbformat_minor": 5
}
