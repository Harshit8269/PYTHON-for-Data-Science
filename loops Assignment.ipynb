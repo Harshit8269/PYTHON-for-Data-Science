{
 "cells": [
  {
   "cell_type": "markdown",
   "id": "06a2da97-76fb-4539-8694-7b137c87eb41",
   "metadata": {},
   "source": [
    "## Q1. Explain with an example each when to use a for loop and a while loop."
   ]
  },
  {
   "cell_type": "markdown",
   "id": "f25f6c94-4761-424b-b18f-de7684027646",
   "metadata": {},
   "source": [
    "##### For loop is used when we already know how many times itrations will be occur but in While loop, there must be a condition which is tested in every iteration."
   ]
  },
  {
   "cell_type": "code",
   "execution_count": 6,
   "id": "29b25f62-0842-4855-88d5-8edd55cf7575",
   "metadata": {},
   "outputs": [
    {
     "name": "stdout",
     "output_type": "stream",
     "text": [
      "Data Science\n",
      "Data Science\n",
      "Data Science\n",
      "Data Science\n",
      "Data Science\n"
     ]
    }
   ],
   "source": [
    "# For loop example\n",
    "for i in range(1, 6):\n",
    "    print(\"Data Science\")"
   ]
  },
  {
   "cell_type": "code",
   "execution_count": 9,
   "id": "84645704-ec68-4402-acdf-a75e16070b5f",
   "metadata": {},
   "outputs": [
    {
     "name": "stdout",
     "output_type": "stream",
     "text": [
      "Data Science\n",
      "Data Science\n",
      "Data Science\n",
      "Data Science\n",
      "Data Science\n"
     ]
    }
   ],
   "source": [
    "# while loop example\n",
    "i = 0\n",
    "while (i < 5):\n",
    "    i = i + 1\n",
    "    print(\"Data Science\")"
   ]
  },
  {
   "cell_type": "markdown",
   "id": "bf613f9d-83df-4264-b4ff-7d9149cc917d",
   "metadata": {},
   "source": [
    "## Q2. Write a python program to print the sum and product of the first 10 natural numbers using for and while loop."
   ]
  },
  {
   "cell_type": "code",
   "execution_count": 17,
   "id": "d41eeba8-d3bd-4d84-8a75-ad58c15dc4e6",
   "metadata": {},
   "outputs": [
    {
     "name": "stdout",
     "output_type": "stream",
     "text": [
      "sum of 1st 10 natural numbers is 55\n",
      "sum of 1st 10 natural numbers is 3628800\n"
     ]
    }
   ],
   "source": [
    "sum = 0\n",
    "pro = 1\n",
    "for i in range(1,11):\n",
    "    sum = sum + i\n",
    "    pro = pro* i\n",
    "print(f\"sum of 1st 10 natural numbers is {sum}\")\n",
    "print(f\"sum of 1st 10 natural numbers is {pro}\")"
   ]
  },
  {
   "cell_type": "code",
   "execution_count": 2,
   "id": "08f64456-deb0-4042-9248-2176407ac377",
   "metadata": {},
   "outputs": [
    {
     "name": "stdout",
     "output_type": "stream",
     "text": [
      "sum of 1st 10 natural numbers is 55\n",
      "sum of 1st 10 natural numbers is 3628800\n"
     ]
    }
   ],
   "source": [
    "sum = 0\n",
    "pro = 1\n",
    "i  = 1\n",
    "while(i < 11):\n",
    "    sum = sum + i\n",
    "    pro = pro * i\n",
    "    i = i + 1\n",
    "print(f\"sum of 1st 10 natural numbers is {sum}\")\n",
    "print(f\"sum of 1st 10 natural numbers is {pro}\")    "
   ]
  },
  {
   "cell_type": "markdown",
   "id": "36de808b-d0f5-4b46-913b-68cdb71f88e4",
   "metadata": {},
   "source": [
    "## Q3. Create a python program to compute the electricity bill for a household.\n",
    "The per-unit charges in rupees are as follows: For the first 100 units, the user will be charged Rs. 4.5 per\n",
    "unit, for the next 100 units, the user will be charged Rs. 6 per unit, and for the next 100 units, the user will\n",
    "be charged Rs. 10 per unit, After 300 units and above the user will be charged Rs. 20 per unit.\n",
    "You are required to take the units of electricity consumed in a month from the user as input.\n",
    "Your program must pass this test case: when the unit of electricity consumed by the user in a month is\n",
    "310, the total electricity bill should be 2250.\n",
    "\n"
   ]
  },
  {
   "cell_type": "code",
   "execution_count": 5,
   "id": "b57a587a-c51b-4213-85f4-270a8a67f47c",
   "metadata": {},
   "outputs": [
    {
     "name": "stdin",
     "output_type": "stream",
     "text": [
      "Enter Unit of electricity consumed in a month : 310\n"
     ]
    },
    {
     "name": "stdout",
     "output_type": "stream",
     "text": [
      "Your Electricity Charges for this month is Rs. 2250.0\n"
     ]
    }
   ],
   "source": [
    "Units_consumed = int(input(\"Enter Unit of electricity consumed in a month :\"))\n",
    "bill = 0\n",
    "if Units_consumed <= 100:\n",
    "    bill = 4.5 * Units_consumed\n",
    "elif Units_consumed > 100 and Units_consumed <= 200:\n",
    "    bill = 4.5 * 100 + (Units_consumed - 100) * 6\n",
    "elif Units_consumed > 200 and Units_consumed <= 300:\n",
    "    bill = 4.5 * 100 + 6 * 100 + (Units_consumed - 200) * 10\n",
    "elif Units_consumed > 300:\n",
    "    bill = 4.5 * 100 + 6 * 100 + 10 * 100 + (Units_consumed - 300) * 20\n",
    "print(f\"Your Electricity Charges for this month is Rs. {bill}\" )    "
   ]
  },
  {
   "cell_type": "markdown",
   "id": "591a1e6d-4cf0-4d42-996b-de257cc6966b",
   "metadata": {},
   "source": [
    "## Q4. Create a list of numbers from 1 to 100. Use for loop and while loop to calculate the cube of each number and if the cube of that number is divisible by 4 or 5 then append that number in a list and print that list."
   ]
  },
  {
   "cell_type": "code",
   "execution_count": 8,
   "id": "28292c3a-28ce-4156-8ed0-4b5cb9ceeb87",
   "metadata": {},
   "outputs": [
    {
     "name": "stdout",
     "output_type": "stream",
     "text": [
      "[8, 64, 125, 216, 512, 1000, 1728, 2744, 3375, 4096, 5832, 8000, 10648, 13824, 15625, 17576, 21952, 27000, 32768, 39304, 42875, 46656, 54872, 64000, 74088, 85184, 91125, 97336, 110592, 125000, 140608, 157464, 166375, 175616, 195112, 216000, 238328, 262144, 274625, 287496, 314432, 343000, 373248, 405224, 421875, 438976, 474552, 512000, 551368, 592704, 614125, 636056, 681472, 729000, 778688, 830584, 857375, 884736, 941192, 1000000]\n"
     ]
    }
   ],
   "source": [
    "l = list(range(1,101))\n",
    "Cube_list = []\n",
    "for i in l:\n",
    "    i_cube = i * i * i\n",
    "    if i_cube % 4 == 0 or i_cube % 5 == 0:\n",
    "        Cube_list.append(i_cube)\n",
    "print(Cube_list)        "
   ]
  },
  {
   "cell_type": "code",
   "execution_count": 13,
   "id": "7861e139-c28f-4e7e-95d5-bb9cb0a71147",
   "metadata": {},
   "outputs": [
    {
     "name": "stdout",
     "output_type": "stream",
     "text": [
      "[8, 64, 125, 216, 512, 1000, 1728, 2744, 3375, 4096, 5832, 8000, 10648, 13824, 15625, 17576, 21952, 27000, 32768, 39304, 42875, 46656, 54872, 64000, 74088, 85184, 91125, 97336, 110592, 125000, 140608, 157464, 166375, 175616, 195112, 216000, 238328, 262144, 274625, 287496, 314432, 343000, 373248, 405224, 421875, 438976, 474552, 512000, 551368, 592704, 614125, 636056, 681472, 729000, 778688, 830584, 857375, 884736, 941192, 1000000]\n"
     ]
    }
   ],
   "source": [
    "l = list(range(1,101))\n",
    "Cube_list = []\n",
    "i = 0 \n",
    "while(i < len(l)):\n",
    "    i_cube = l[i] * l[i] * l[i]\n",
    "    if i_cube % 4 == 0 or i_cube % 5 == 0:\n",
    "        Cube_list.append(i_cube)\n",
    "    i = i + 1\n",
    "print(Cube_list)    "
   ]
  },
  {
   "cell_type": "markdown",
   "id": "7bf7da42-b733-429b-8cee-cd5ebb9c4526",
   "metadata": {},
   "source": [
    "## Q5. Write a program to filter count vowels in the below-given string. \n",
    "### string = \"I want to become a data scientist\""
   ]
  },
  {
   "cell_type": "code",
   "execution_count": 12,
   "id": "09d1241b-63f0-44cf-a60e-b3b864ebeb3d",
   "metadata": {},
   "outputs": [
    {
     "name": "stdout",
     "output_type": "stream",
     "text": [
      "Number of vowels in this string : 12\n"
     ]
    }
   ],
   "source": [
    "s = \"I want to become a data scientist\"\n",
    "count = 0\n",
    "for i in s.lower():\n",
    "    if i in ['a','e','i','o','u']:\n",
    "        count = count + 1\n",
    "print(f'Number of vowels in this string : {count}')        "
   ]
  }
 ],
 "metadata": {
  "kernelspec": {
   "display_name": "Python 3 (ipykernel)",
   "language": "python",
   "name": "python3"
  },
  "language_info": {
   "codemirror_mode": {
    "name": "ipython",
    "version": 3
   },
   "file_extension": ".py",
   "mimetype": "text/x-python",
   "name": "python",
   "nbconvert_exporter": "python",
   "pygments_lexer": "ipython3",
   "version": "3.10.8"
  }
 },
 "nbformat": 4,
 "nbformat_minor": 5
}
