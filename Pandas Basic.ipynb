{
 "cells": [
  {
   "cell_type": "markdown",
   "id": "12a49cf1-0382-4f8b-a956-657b7ca20c43",
   "metadata": {},
   "source": [
    "## Q1. Create a Pandas Series that contains the following data: 4, 8, 15, 16, 23, and 42. Then, print the series."
   ]
  },
  {
   "cell_type": "code",
   "execution_count": 7,
   "id": "a4ef3385-97d1-413e-b7f8-9ec76bc2aed5",
   "metadata": {},
   "outputs": [
    {
     "name": "stdout",
     "output_type": "stream",
     "text": [
      "0     4\n",
      "1     8\n",
      "2    15\n",
      "3    16\n",
      "4    23\n",
      "5    42\n",
      "dtype: int64\n"
     ]
    }
   ],
   "source": [
    "import pandas as pd\n",
    "print(pd.Series([4,8,15,16,23,42]))"
   ]
  },
  {
   "cell_type": "markdown",
   "id": "c8fec2bd-ed78-49d2-8ff9-cc3be981802a",
   "metadata": {},
   "source": [
    "## Q2. Create a variable of list type containing 10 elements in it, and apply pandas.Series function on the variable print it."
   ]
  },
  {
   "cell_type": "code",
   "execution_count": 5,
   "id": "461a3419-63e7-4654-8c9b-f02ec827b249",
   "metadata": {},
   "outputs": [
    {
     "name": "stdout",
     "output_type": "stream",
     "text": [
      "0    12\n",
      "1    34\n",
      "2     5\n",
      "3    67\n",
      "4    87\n",
      "5    94\n",
      "6    24\n",
      "7    14\n",
      "8    54\n",
      "9    43\n",
      "dtype: int64\n"
     ]
    }
   ],
   "source": [
    "a = [12,34,5,67,87,94,24,14,54,43]\n",
    "print(pd.Series(a))"
   ]
  },
  {
   "cell_type": "markdown",
   "id": "1e957ee5-c71f-472a-ac3f-2cd785a1aa6e",
   "metadata": {},
   "source": [
    "## Q3. Create a Pandas DataFrame that contains the following data:\n",
    "### Name: Alice Bob Claire\n",
    "### Age: 25 30 27\n",
    "### Gender: Female Male Female\n",
    "## Then, print the DataFrame."
   ]
  },
  {
   "cell_type": "code",
   "execution_count": 10,
   "id": "bd046a85-f5ef-43d1-9e1d-b39329b64074",
   "metadata": {},
   "outputs": [
    {
     "name": "stdout",
     "output_type": "stream",
     "text": [
      "     Name  Age  Gender\n",
      "1   Alice   25  Female\n",
      "2     Bob   30    Male\n",
      "3  Claire   27  Female\n"
     ]
    }
   ],
   "source": [
    "data = {'Name' : ['Alice', 'Bob', 'Claire'],\n",
    "       'Age' : [25,30,27],\n",
    "       'Gender' : ['Female', 'Male', 'Female']}\n",
    "print(pd.DataFrame(data, index = [1,2,3]))"
   ]
  },
  {
   "cell_type": "markdown",
   "id": "9e52c584-bc34-46c3-85dc-c3e78e8b6937",
   "metadata": {
    "tags": []
   },
   "source": [
    "## Q4. What is ‘DataFrame’ in pandas and how is it different from pandas.series? Explain with an example."
   ]
  },
  {
   "cell_type": "markdown",
   "id": "70df70d5-c8fb-4c16-96fd-8c4e810ecfa9",
   "metadata": {},
   "source": [
    "### DataFrame is a 2-D size-mutable tabular structure with columns and rows while Series is 1-D size array."
   ]
  },
  {
   "cell_type": "code",
   "execution_count": 23,
   "id": "95d334de-3327-4da7-ab89-bad85d8a7d56",
   "metadata": {},
   "outputs": [
    {
     "name": "stdout",
     "output_type": "stream",
     "text": [
      "0    23\n",
      "1    21\n",
      "2    34\n",
      "3    35\n",
      "4     2\n",
      "5    47\n",
      "6    98\n",
      "dtype: int64\n"
     ]
    }
   ],
   "source": [
    "print(pd.Series([23,21,34,35,2,47,98]))\n"
   ]
  },
  {
   "cell_type": "code",
   "execution_count": 24,
   "id": "56d7e4b4-a495-4f10-8f51-1a4772a6ee44",
   "metadata": {},
   "outputs": [
    {
     "name": "stdout",
     "output_type": "stream",
     "text": [
      "     student  Marks  Age\n",
      "0       Aman     67   21\n",
      "1      Vikas     54   22\n",
      "2  Deepanshu     78   21\n"
     ]
    }
   ],
   "source": [
    "print(pd.DataFrame({\"student\" : ['Aman','Vikas','Deepanshu'],\n",
    "          'Marks' :[67,54,78],\n",
    "          'Age' :[21,22,21]}))"
   ]
  },
  {
   "cell_type": "markdown",
   "id": "985e51bb-6e83-405e-8bb7-1716fba620c5",
   "metadata": {},
   "source": [
    "## Q5. What are some common functions you can use to manipulate data in a Pandas DataFrame? Can you give an example of when you might use one of these functions?"
   ]
  },
  {
   "cell_type": "markdown",
   "id": "bf5b4f66-30ff-44bf-a889-c342404267eb",
   "metadata": {},
   "source": [
    "### 1. head  2. tail  3. Shape  4. Info  5. Describe "
   ]
  },
  {
   "cell_type": "code",
   "execution_count": 27,
   "id": "e0472b2a-5736-4d8c-a203-59c05b7e17c9",
   "metadata": {},
   "outputs": [
    {
     "data": {
      "text/plain": [
       "<bound method DataFrame.info of      student  Marks  Age\n",
       "0       Aman     67   21\n",
       "1      Vikas     54   22\n",
       "2  Deepanshu     78   21>"
      ]
     },
     "execution_count": 27,
     "metadata": {},
     "output_type": "execute_result"
    }
   ],
   "source": [
    "df = pd.DataFrame({\"student\" : ['Aman','Vikas','Deepanshu'],\n",
    "          'Marks' :[67,54,78],\n",
    "          'Age' :[21,22,21]})\n",
    "df.info"
   ]
  },
  {
   "cell_type": "markdown",
   "id": "4d6b7d83-1e71-4434-bb4c-6a57d63f4ca9",
   "metadata": {},
   "source": [
    "## Q6. Which of the following is mutable in nature Series, DataFrame, Panel?"
   ]
  },
  {
   "cell_type": "markdown",
   "id": "756cd57e-ffa5-4c63-9823-72c85273e08d",
   "metadata": {},
   "source": [
    "### Series: immutable\n",
    "### DataFrames: mutable\n",
    "### Panel: mutable "
   ]
  },
  {
   "cell_type": "markdown",
   "id": "29c183ca-8c36-4534-8130-ab9e4d3aec0f",
   "metadata": {},
   "source": [
    "## Q7. Create a DataFrame using multiple Series. Explain with an example."
   ]
  },
  {
   "cell_type": "code",
   "execution_count": 19,
   "id": "a7e4c505-0786-4039-9127-a03ea1f453e5",
   "metadata": {},
   "outputs": [
    {
     "data": {
      "text/html": [
       "<div>\n",
       "<style scoped>\n",
       "    .dataframe tbody tr th:only-of-type {\n",
       "        vertical-align: middle;\n",
       "    }\n",
       "\n",
       "    .dataframe tbody tr th {\n",
       "        vertical-align: top;\n",
       "    }\n",
       "\n",
       "    .dataframe thead th {\n",
       "        text-align: right;\n",
       "    }\n",
       "</style>\n",
       "<table border=\"1\" class=\"dataframe\">\n",
       "  <thead>\n",
       "    <tr style=\"text-align: right;\">\n",
       "      <th></th>\n",
       "      <th>Name</th>\n",
       "      <th>GodFather</th>\n",
       "      <th>Skills</th>\n",
       "    </tr>\n",
       "  </thead>\n",
       "  <tbody>\n",
       "    <tr>\n",
       "      <th>0</th>\n",
       "      <td>Yudhishthir</td>\n",
       "      <td>Dharma Dev</td>\n",
       "      <td>Morality</td>\n",
       "    </tr>\n",
       "    <tr>\n",
       "      <th>1</th>\n",
       "      <td>Arjun</td>\n",
       "      <td>Indra Dev</td>\n",
       "      <td>Archery</td>\n",
       "    </tr>\n",
       "    <tr>\n",
       "      <th>2</th>\n",
       "      <td>Bheem</td>\n",
       "      <td>Vayu Dev</td>\n",
       "      <td>Physical Strength</td>\n",
       "    </tr>\n",
       "    <tr>\n",
       "      <th>3</th>\n",
       "      <td>Nakul</td>\n",
       "      <td>Ashvini Kumar</td>\n",
       "      <td>Swordsmanship</td>\n",
       "    </tr>\n",
       "    <tr>\n",
       "      <th>4</th>\n",
       "      <td>Sahadev</td>\n",
       "      <td>Ashvini Kumar</td>\n",
       "      <td>Intelligence</td>\n",
       "    </tr>\n",
       "  </tbody>\n",
       "</table>\n",
       "</div>"
      ],
      "text/plain": [
       "          Name      GodFather             Skills\n",
       "0  Yudhishthir     Dharma Dev           Morality\n",
       "1        Arjun      Indra Dev            Archery\n",
       "2        Bheem       Vayu Dev  Physical Strength\n",
       "3        Nakul  Ashvini Kumar      Swordsmanship\n",
       "4      Sahadev  Ashvini Kumar       Intelligence"
      ]
     },
     "execution_count": 19,
     "metadata": {},
     "output_type": "execute_result"
    }
   ],
   "source": [
    "Name = pd.Series(['Yudhishthir','Arjun','Bheem','Nakul','Sahadev',])\n",
    "GodFather = pd.Series(['Dharma Dev','Indra Dev','Vayu Dev','Ashvini Kumar','Ashvini Kumar'])\n",
    "Skills  = pd.Series(['Morality','Archery', 'Physical Strength','Swordsmanship','Intelligence'])\n",
    "frame = {'Name': Name, 'GodFather' : GodFather, 'Skills': Skills}\n",
    "pd.DataFrame(frame)"
   ]
  }
 ],
 "metadata": {
  "kernelspec": {
   "display_name": "Python 3 (ipykernel)",
   "language": "python",
   "name": "python3"
  },
  "language_info": {
   "codemirror_mode": {
    "name": "ipython",
    "version": 3
   },
   "file_extension": ".py",
   "mimetype": "text/x-python",
   "name": "python",
   "nbconvert_exporter": "python",
   "pygments_lexer": "ipython3",
   "version": "3.10.8"
  }
 },
 "nbformat": 4,
 "nbformat_minor": 5
}
