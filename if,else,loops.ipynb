{
 "cells": [
  {
   "cell_type": "markdown",
   "id": "5c3b0c2f-caa0-41d6-82c2-f885eaf6b6be",
   "metadata": {},
   "source": [
    "## 1. Write a program to accept Percentage from the user and display the grade acc. to the following criteria\n",
    " ### Marks : > 90 then grade: A\n",
    " ###         > 80 and <= 90  then grade: B\n",
    " ###        >= 60 and <= 80 then garde: C\n",
    " ###        below 60  then grade: D"
   ]
  },
  {
   "cell_type": "code",
   "execution_count": 3,
   "id": "37ed32ed-2aae-46b6-816c-783043da6700",
   "metadata": {},
   "outputs": [
    {
     "name": "stdin",
     "output_type": "stream",
     "text": [
      "Enter your percentage  92\n"
     ]
    },
    {
     "name": "stdout",
     "output_type": "stream",
     "text": [
      "Your garde is A\n"
     ]
    }
   ],
   "source": [
    "P = int(input('Enter your percentage '))\n",
    "if P > 90:\n",
    "    print(\"Your garde is A\")\n",
    "elif P > 80 and P <=90:\n",
    "    print(\"Your garde is B\")\n",
    "elif P >=60 and P <= 80:\n",
    "    print(\"Your garde is C\")\n",
    "else:\n",
    "    print(\"Your garde is D\")"
   ]
  },
  {
   "cell_type": "markdown",
   "id": "1ceb6a47-d665-4ab0-a94e-506407808376",
   "metadata": {},
   "source": [
    "## 2. Write a program to accept the cost price of a bike and display the road tax to be paid according to the following criteria: \n",
    "#### Tax 15% Cost Price(in Rs) >100000\n",
    "#### Tax 10% Cost Price(in Rs) >50000 and <= 100000\n",
    "#### Tax 5% Cost Price(in Rs) <= 50000 \n",
    "\n"
   ]
  },
  {
   "cell_type": "code",
   "execution_count": 6,
   "id": "18a23893-80e7-466a-be79-29a6674c39ca",
   "metadata": {},
   "outputs": [
    {
     "name": "stdin",
     "output_type": "stream",
     "text": [
      "Enter the Price of Bike:  50000\n"
     ]
    },
    {
     "name": "stdout",
     "output_type": "stream",
     "text": [
      "Your tax to be paid is Rs.2500.0\n"
     ]
    }
   ],
   "source": [
    "c = int(input(\"Enter the Price of Bike: \"))\n",
    "if c > 100000:\n",
    "    print(\"Your tax to be paid is Rs.\"+str(c*0.15))\n",
    "elif c > 50000 and c <= 100000:\n",
    "    print(\"Your tax to be paid is Rs.\"+str(c*0.10))\n",
    "else:\n",
    "    print(\"Your tax to be paid is Rs.\"+str(c*0.05))"
   ]
  },
  {
   "cell_type": "markdown",
   "id": "60a4f9d2-b8e1-4148-9992-aa2f658ed8cc",
   "metadata": {},
   "source": [
    "## 3. Accept any city from the user and display monuments of that city. \n",
    "#### City   ------       Monuments\n",
    "#### Delhi  ----->        Redfort\n",
    "#### Agra   ----->        Tajmahal\n",
    "#### Jaipur ----->        Jalmahal"
   ]
  },
  {
   "cell_type": "code",
   "execution_count": 8,
   "id": "6d2542d9-c295-46c0-b38e-5ab86dd43bbc",
   "metadata": {},
   "outputs": [
    {
     "name": "stdin",
     "output_type": "stream",
     "text": [
      "Enter the city name : delhi\n"
     ]
    },
    {
     "name": "stdout",
     "output_type": "stream",
     "text": [
      "Redfort\n"
     ]
    }
   ],
   "source": [
    "City_name = input('Enter the city name :')\n",
    "if City_name.upper() == \"DELHI\":\n",
    "    print(\"Redfort\")\n",
    "elif City_name.upper() == \"AGRA\":\n",
    "    print(\"Tajmahal\")\n",
    "elif City_name.upper() == \"JAIPUR\":\n",
    "    print(\"Jalmahal\")\n",
    "else:\n",
    "    print(\"Please enter a valid city\")"
   ]
  },
  {
   "cell_type": "markdown",
   "id": "b509aa15-f9ca-456e-ac6f-fc34e65a4176",
   "metadata": {},
   "source": [
    "## 4. Check how many times a given number can be divided by 3 before it is less than or equal to 10. \n"
   ]
  },
  {
   "cell_type": "code",
   "execution_count": null,
   "id": "6de5a2e5-60c5-442e-9af3-f0ff6aac09f3",
   "metadata": {},
   "outputs": [
    {
     "name": "stdin",
     "output_type": "stream",
     "text": [
      "Enter a number 34\n"
     ]
    }
   ],
   "source": [
    "n = int(input('Enter a number'))\n",
    "count = 0\n",
    "while(count <=10):\n",
    "    if n // 3 == 0:\n",
    "        count = count + 1\n",
    "    else:\n",
    "        continue\n",
    "print(count)    "
   ]
  },
  {
   "cell_type": "markdown",
   "id": "579db012-f3b5-4fba-81db-89723eb1c8bb",
   "metadata": {},
   "source": [
    "## 5. Why and When to Use while Loop in Python give a detailed description with example \n"
   ]
  },
  {
   "cell_type": "markdown",
   "id": "49a5b1d3-a41f-4f0f-adb0-530f47a43923",
   "metadata": {},
   "source": [
    "#### while loop is used to check condition first and then iterate.It is used to execute a block of statements repeatedly until a given condition is satisfied. And when the condition becomes false, the line immediately after the loop in the program is executed."
   ]
  },
  {
   "cell_type": "code",
   "execution_count": 12,
   "id": "f3a5a07d-9454-4ab4-848f-693b68120aa4",
   "metadata": {},
   "outputs": [
    {
     "name": "stdout",
     "output_type": "stream",
     "text": [
      "2 * 1 =2\n",
      "2 * 2 =4\n",
      "2 * 3 =6\n",
      "2 * 4 =8\n",
      "2 * 5 =10\n",
      "2 * 6 =12\n",
      "2 * 7 =14\n",
      "2 * 8 =16\n",
      "2 * 9 =18\n",
      "2 * 10 =20\n"
     ]
    }
   ],
   "source": [
    "i = 1\n",
    "while(i <= 10):\n",
    "    print(f\"2 * {i} =\"+str(2*i))\n",
    "    i = i + 1"
   ]
  },
  {
   "cell_type": "markdown",
   "id": "fbc63ebc-27b8-4031-b433-ab8be43168ca",
   "metadata": {},
   "source": [
    "## 6. Use nested while loop to print 3 different pattern. \n"
   ]
  },
  {
   "cell_type": "code",
   "execution_count": 9,
   "id": "e0a4d32a-610e-4593-acbd-776f2f87b888",
   "metadata": {},
   "outputs": [
    {
     "name": "stdin",
     "output_type": "stream",
     "text": [
      "Enter a number of rows : 5\n"
     ]
    },
    {
     "name": "stdout",
     "output_type": "stream",
     "text": [
      "* * * * * \n",
      "* * * * * \n",
      "* * * * * \n",
      "* * * * * \n",
      "* * * * * \n"
     ]
    }
   ],
   "source": [
    "n = int(input(\"Enter a number of rows :\"))\n",
    "row = 0\n",
    "while(row < n):\n",
    "    star = 0\n",
    "    while(star < n):\n",
    "        print(\"*\",end = \" \")\n",
    "        star = star + 1\n",
    "    row = row + 1\n",
    "    print()"
   ]
  },
  {
   "cell_type": "code",
   "execution_count": 6,
   "id": "784aed07-c7a9-467e-a92d-6a21e9d444f0",
   "metadata": {},
   "outputs": [
    {
     "name": "stdin",
     "output_type": "stream",
     "text": [
      "Enter a number of rows : 5\n"
     ]
    },
    {
     "name": "stdout",
     "output_type": "stream",
     "text": [
      "* \n",
      "* * \n",
      "* * * \n",
      "* * * * \n",
      "* * * * * \n"
     ]
    }
   ],
   "source": [
    "n = int(input(\"Enter a number of rows :\"))\n",
    "row = 0\n",
    "while(row < n):\n",
    "    star = row + 1\n",
    "    while(star > 0):\n",
    "        print(\"*\",end = \" \")\n",
    "        star = star - 1\n",
    "    row = row + 1\n",
    "    print()\n",
    "    "
   ]
  },
  {
   "cell_type": "code",
   "execution_count": 5,
   "id": "51762e5b-e3ca-42f7-934c-07c03b2af90d",
   "metadata": {},
   "outputs": [
    {
     "name": "stdin",
     "output_type": "stream",
     "text": [
      "Enter a number of rows : 4\n"
     ]
    },
    {
     "name": "stdout",
     "output_type": "stream",
     "text": [
      "* * * * \n",
      "* * * \n",
      "* * \n",
      "* \n"
     ]
    }
   ],
   "source": [
    "n = int(input(\"Enter a number of rows :\"))\n",
    "row = n\n",
    "while(row > 0):\n",
    "    star = row \n",
    "    while(star > 0):\n",
    "        print(\"*\",end = \" \")\n",
    "        star = star - 1\n",
    "    row = row - 1\n",
    "    print()\n",
    "    "
   ]
  },
  {
   "cell_type": "markdown",
   "id": "85884c50-0ff2-4512-b5a4-80b27c40272a",
   "metadata": {},
   "source": [
    "## 7. Reverse a while loop to display numbers from 10 to 1. \n"
   ]
  },
  {
   "cell_type": "code",
   "execution_count": 1,
   "id": "486e38ee-92da-4bd0-b438-7578a2883f84",
   "metadata": {},
   "outputs": [
    {
     "name": "stdout",
     "output_type": "stream",
     "text": [
      "10\n",
      "9\n",
      "8\n",
      "7\n",
      "6\n",
      "5\n",
      "4\n",
      "3\n",
      "2\n",
      "1\n"
     ]
    }
   ],
   "source": [
    "i = 10\n",
    "while(i > 0):\n",
    "    print(i)\n",
    "    i = i - 1\n",
    "    "
   ]
  },
  {
   "cell_type": "markdown",
   "id": "9982bdc6-2dce-40ad-a41a-d75db953ada7",
   "metadata": {},
   "source": [
    "## 8. Reverse a while loop to display numbers from 10 to 1."
   ]
  },
  {
   "cell_type": "code",
   "execution_count": 2,
   "id": "7cb68774-3a16-4e51-873d-c99ae5bb0abc",
   "metadata": {},
   "outputs": [
    {
     "name": "stdout",
     "output_type": "stream",
     "text": [
      "10\n",
      "9\n",
      "8\n",
      "7\n",
      "6\n",
      "5\n",
      "4\n",
      "3\n",
      "2\n",
      "1\n"
     ]
    }
   ],
   "source": [
    "i = 10\n",
    "while(i > 0):\n",
    "    print(i)\n",
    "    i = i - 1\n",
    "    "
   ]
  },
  {
   "cell_type": "code",
   "execution_count": null,
   "id": "6f88a1b3-ff34-461d-9a41-8df201e3a691",
   "metadata": {},
   "outputs": [],
   "source": []
  }
 ],
 "metadata": {
  "kernelspec": {
   "display_name": "Python 3 (ipykernel)",
   "language": "python",
   "name": "python3"
  },
  "language_info": {
   "codemirror_mode": {
    "name": "ipython",
    "version": 3
   },
   "file_extension": ".py",
   "mimetype": "text/x-python",
   "name": "python",
   "nbconvert_exporter": "python",
   "pygments_lexer": "ipython3",
   "version": "3.10.8"
  }
 },
 "nbformat": 4,
 "nbformat_minor": 5
}
