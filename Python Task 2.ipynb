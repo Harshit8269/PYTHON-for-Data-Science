{
 "cells": [
  {
   "cell_type": "markdown",
   "id": "9d8b4ed8-cdf9-4d58-8fa3-39b30ab9972e",
   "metadata": {},
   "source": [
    "## Q1. You are writing code for a company. The requirement of the company is that you create a python function that will check whether the password entered by the user is correct or not. The function should take the password as input and return the string “Valid Password” if the entered password follows the below-given password guidelines else it should return “Invalid Password”.\n",
    "### Note: 1. The Password should contain at least two uppercase letters and at least two lowercase letters.\n",
    "### 2. The Password should contain at least a number and three special characters.\n",
    "### 3. The length of the password should be 10 characters long."
   ]
  },
  {
   "cell_type": "code",
   "execution_count": 64,
   "id": "d1577bb3-36ea-4398-a0bb-05f6a4abf837",
   "metadata": {},
   "outputs": [
    {
     "name": "stdin",
     "output_type": "stream",
     "text": [
      "Enter Your Password : HUrt23@#$j\n"
     ]
    },
    {
     "data": {
      "text/plain": [
       "'Valid Password'"
      ]
     },
     "execution_count": 64,
     "metadata": {},
     "output_type": "execute_result"
    }
   ],
   "source": [
    "def check_password():\n",
    "    Password = str(input(\"Enter Your Password :\"))\n",
    "    up, dn, num, sp =  0, 0, 0, 0\n",
    "    special = ['!','@','#','$','%','^','&','*','(',')']\n",
    "    for i in Password:\n",
    "        if i.isupper():\n",
    "            up = up + 1\n",
    "    for i in Password:\n",
    "        if i.islower():\n",
    "            dn = dn + 1\n",
    "    for i in Password:    \n",
    "        if i.isnumeric():\n",
    "            num = num + 1\n",
    "    for i in Password:       \n",
    "        if i in special:\n",
    "            sp = sp + 1          \n",
    "    if up >= 2 and dn >= 2 and num >= 1 and sp >= 3 and len(Password) == 10:\n",
    "        return (\"Valid Password\")\n",
    "    else:\n",
    "        return (\"Invalid Password\")\n",
    "            \n",
    "check_password()        "
   ]
  },
  {
   "cell_type": "markdown",
   "id": "2bb9d9ed-6aa3-4e08-b296-9baace7c159e",
   "metadata": {},
   "source": [
    "## Q2. Solve the below-given questions using at least one of the following:\n",
    "### 1. Lambda function\n",
    "### 2. Filter function\n",
    "### 3. Map function\n",
    "### 4. List Comprehension\n",
    "#### * Check if the string starts with a particular letter.\n",
    "#### * Check if the string is numeric.\n",
    "#### * Sort a list of tuples having fruit names and their quantity. [(\"mango\",99),(\"orange\",80), (\"grapes\", 1000)]\n",
    "#### * Find the squares of numbers from 1 to 10.\n",
    "#### * Find the cube root of numbers from 1 to 10.\n",
    "#### * Check if a given number is even.\n",
    "#### * Filter odd numbers from the given list. [1,2,3,4,5,6,7,8,9,10]\n",
    "#### * Sort a list of integers into positive and negative integers lists. [1,2,3,4,5,6,-1,-2,-3,-4,-5,0]"
   ]
  },
  {
   "cell_type": "code",
   "execution_count": 28,
   "id": "c5641388-709f-4c2a-8ebb-20081864c0e3",
   "metadata": {},
   "outputs": [
    {
     "name": "stdout",
     "output_type": "stream",
     "text": [
      "Yes, It starts with a\n",
      "No, It does not with a\n"
     ]
    }
   ],
   "source": [
    "##  Check if the string starts with a particular letter.\n",
    "check_start = lambda s : \"Yes, It starts with a\" if s.startswith('a') else \"No, It does not with a\"\n",
    "print(check_start('akshit'))\n",
    "print(check_start('rakshit'))"
   ]
  },
  {
   "cell_type": "code",
   "execution_count": 32,
   "id": "793c5f04-0752-446a-bb8e-94e9cba1edd7",
   "metadata": {},
   "outputs": [
    {
     "name": "stdout",
     "output_type": "stream",
     "text": [
      "Yes ,It is numeric\n",
      "No, It is not Numeric\n"
     ]
    }
   ],
   "source": [
    "## Check if the string is numeric.\n",
    "check_num = lambda s : 'Yes ,It is numeric' if s.isnumeric() else 'No, It is not Numeric'\n",
    "print(check_num(\"465\"))\n",
    "print(check_num('India'))"
   ]
  },
  {
   "cell_type": "code",
   "execution_count": 87,
   "id": "caf67bb8-3fec-46ab-bc81-a72ccd493d6b",
   "metadata": {},
   "outputs": [
    {
     "name": "stdout",
     "output_type": "stream",
     "text": [
      "[('orange', 80), ('mango', 99), ('grapes', 1000)]\n"
     ]
    }
   ],
   "source": [
    "##  Sort a list of tuples having fruit names and their quantity. [(\"mango\",99),(\"orange\",80), (\"grapes\", 1000)]\n",
    "l = [(\"mango\",99),(\"orange\",80), (\"grapes\", 1000)]\n",
    "sorted_list = lambda l: sorted(l, reverse = True)\n",
    "print(sorted_list(l))\n",
    "    \n"
   ]
  },
  {
   "cell_type": "code",
   "execution_count": 40,
   "id": "da7ab2fd-ea37-4c7e-ac79-4f6bcd5f1a78",
   "metadata": {},
   "outputs": [
    {
     "data": {
      "text/plain": [
       "[1, 4, 9, 16, 25, 36, 49, 64, 81, 100]"
      ]
     },
     "execution_count": 40,
     "metadata": {},
     "output_type": "execute_result"
    }
   ],
   "source": [
    "##  Find the squares of numbers from 1 to 10.\n",
    "sq = [x**2 for x in range(1,11)]\n",
    "sq"
   ]
  },
  {
   "cell_type": "code",
   "execution_count": 41,
   "id": "63cc4cb3-d6b2-4cac-82aa-6c7c19076b12",
   "metadata": {},
   "outputs": [
    {
     "data": {
      "text/plain": [
       "[1, 8, 27, 64, 125, 216, 343, 512, 729, 1000]"
      ]
     },
     "execution_count": 41,
     "metadata": {},
     "output_type": "execute_result"
    }
   ],
   "source": [
    "## Find the cube of numbers from 1 to 10.\n",
    "cub = [x** 3 for x in range(1,11)]\n",
    "cub"
   ]
  },
  {
   "cell_type": "code",
   "execution_count": 47,
   "id": "1f01daf2-369d-4631-9bff-5e5507660496",
   "metadata": {},
   "outputs": [
    {
     "name": "stdout",
     "output_type": "stream",
     "text": [
      "No, It is not even\n",
      "Yes ,It is  even\n"
     ]
    }
   ],
   "source": [
    "## Check if a given number is even.\n",
    "Check_even = lambda e : \"Yes ,It is  even\" if e % 2 ==0 else 'No, It is not even'\n",
    "print(Check_even(67))\n",
    "print(Check_even(34))"
   ]
  },
  {
   "cell_type": "code",
   "execution_count": 51,
   "id": "da384684-be4b-4712-b9ec-77a518092edb",
   "metadata": {},
   "outputs": [
    {
     "data": {
      "text/plain": [
       "[1, 3, 5, 7, 9]"
      ]
     },
     "execution_count": 51,
     "metadata": {},
     "output_type": "execute_result"
    }
   ],
   "source": [
    "## Filter odd numbers from the given list. [1,2,3,4,5,6,7,8,9,10]\n",
    "check_odd = lambda o : True if o % 2 !=0 else False\n",
    "l = [1,2,3,4,5,6,7,8,9,10]\n",
    "list(filter(check_odd, l))"
   ]
  },
  {
   "cell_type": "code",
   "execution_count": 61,
   "id": "c8ed0547-e896-4216-a504-f0c81af82969",
   "metadata": {},
   "outputs": [
    {
     "name": "stdout",
     "output_type": "stream",
     "text": [
      "Positive list [1, 2, 3, 4, 5, 6, 0]\n",
      "Negative list [-1, -2, -3, -4, -5]\n"
     ]
    }
   ],
   "source": [
    "## Sort a list of integers into positive and negative integers lists. [1,2,3,4,5,6,-1,-2,-3,-4,-5,0]\n",
    "list1 = [1,2,3,4,5,6,-1,-2,-3,-4,-5,0]\n",
    "check_positive = [x for x in list1 if x >= 0]\n",
    "check_negative = [x for x in list1 if x < 0]\n",
    "print(f'Positive list {check_positive}')\n",
    "print(f'Negative list {check_negative}')"
   ]
  },
  {
   "cell_type": "code",
   "execution_count": null,
   "id": "3c097a48-4698-493a-bc6b-13fe101c64ca",
   "metadata": {},
   "outputs": [],
   "source": []
  }
 ],
 "metadata": {
  "kernelspec": {
   "display_name": "Python 3 (ipykernel)",
   "language": "python",
   "name": "python3"
  },
  "language_info": {
   "codemirror_mode": {
    "name": "ipython",
    "version": 3
   },
   "file_extension": ".py",
   "mimetype": "text/x-python",
   "name": "python",
   "nbconvert_exporter": "python",
   "pygments_lexer": "ipython3",
   "version": "3.10.8"
  }
 },
 "nbformat": 4,
 "nbformat_minor": 5
}
