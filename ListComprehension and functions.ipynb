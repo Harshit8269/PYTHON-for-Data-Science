{
 "cells": [
  {
   "cell_type": "markdown",
   "id": "a5f66772-65c5-49e4-9ad6-62f912117027",
   "metadata": {},
   "source": [
    "## Q1. Which keyword is used to create a function? Create a function to return a list of odd numbers in the range of 1 to 25."
   ]
  },
  {
   "cell_type": "markdown",
   "id": "9371b3c1-5d5f-41d8-a503-b5e7a7ec1747",
   "metadata": {},
   "source": [
    "#### 'def' Keyword is used to create a fuction"
   ]
  },
  {
   "cell_type": "code",
   "execution_count": 4,
   "id": "dc6ccce8-e119-4b1b-a511-cb661e6b3b22",
   "metadata": {},
   "outputs": [],
   "source": [
    "def odd():\n",
    "    l = range(1,26)\n",
    "    l1 = []\n",
    "    for i in l:\n",
    "        if i % 2 != 0:\n",
    "            l1.append(i)\n",
    "    return l1"
   ]
  },
  {
   "cell_type": "code",
   "execution_count": 5,
   "id": "01acbeeb-fc4f-4b5e-869a-a8169ed4fb1b",
   "metadata": {},
   "outputs": [
    {
     "data": {
      "text/plain": [
       "[1, 3, 5, 7, 9, 11, 13, 15, 17, 19, 21, 23, 25]"
      ]
     },
     "execution_count": 5,
     "metadata": {},
     "output_type": "execute_result"
    }
   ],
   "source": [
    "odd()"
   ]
  },
  {
   "cell_type": "markdown",
   "id": "f9536cbc-9c11-4a91-a0d1-9e129e99ba8c",
   "metadata": {},
   "source": [
    "## Q2. Why *args and **kwargs is used in some functions? Create a function each for *args and **kwargs to demonstrate their use."
   ]
  },
  {
   "cell_type": "markdown",
   "id": "c8e7e61e-c873-4e04-950d-acc8d5e645f7",
   "metadata": {},
   "source": [
    "#### *args are used for multiple arguments in a function and **kwargs are used for multiple key-value arguments in function. When you are unsure about the number of arguments to pass in the functions.then we args amd kwargs."
   ]
  },
  {
   "cell_type": "code",
   "execution_count": 24,
   "id": "0d294222-008c-4520-8150-fb50dcacc0d0",
   "metadata": {},
   "outputs": [
    {
     "data": {
      "text/plain": [
       "(1, 23, 4, 5, 6, 7, 84, 4, 'Hello', (6-2j), [78, 98, 54, 34])"
      ]
     },
     "execution_count": 24,
     "metadata": {},
     "output_type": "execute_result"
    }
   ],
   "source": [
    "def test(*args):\n",
    "    return args\n",
    "test(1,23,4,5,6,7,84,4,'Hello',(6 - 2j),[78,98,54,34])"
   ]
  },
  {
   "cell_type": "code",
   "execution_count": 27,
   "id": "7b8923fc-ba5c-4d40-ae37-5905c3beb7e7",
   "metadata": {},
   "outputs": [
    {
     "name": "stdout",
     "output_type": "stream",
     "text": [
      "a = [9, 8, 76, 5]\n",
      "b = {465, 67, 'qwerty', 87}\n",
      "c = ('Joker', 'Batman')\n",
      "d = True\n"
     ]
    }
   ],
   "source": [
    "def test1(** kwargs):\n",
    "    for (i, j) in kwargs.items():\n",
    "        print(i+ \" =\", j)\n",
    "test1(a = [9,8,76,5],b = {465,67,87,'qwerty'},c = (\"Joker\",'Batman'), d = True)        \n",
    "    "
   ]
  },
  {
   "cell_type": "markdown",
   "id": "1afe057f-b19a-413f-9a35-55d896d8c628",
   "metadata": {},
   "source": [
    "## Q3. What is an iterator in python? Name the method used to initialise the iterator object and the method used for iteration. Use these methods to print the first five elements of the given list [2, 4, 6, 8, 10, 12, 14, 16, 18, 20]."
   ]
  },
  {
   "cell_type": "markdown",
   "id": "81f70bc7-805c-4021-9e03-99b7e47ed659",
   "metadata": {},
   "source": [
    "#### An iterator is an object that contains a countable number of values that can be iterated upon, meaning that you can traverse through all the values. \n",
    "####  __iter__() method is used to initialise the iterator and __next__() method is used for iteration "
   ]
  },
  {
   "cell_type": "code",
   "execution_count": 2,
   "id": "7b2604a7-8550-46b3-93a2-95329378321f",
   "metadata": {},
   "outputs": [],
   "source": [
    "l = [2,4,6,8,10,12,14,16,18,20]\n",
    "num_list = iter(l)"
   ]
  },
  {
   "cell_type": "code",
   "execution_count": 3,
   "id": "c577f879-365a-4330-a5ad-439922576714",
   "metadata": {},
   "outputs": [
    {
     "name": "stdout",
     "output_type": "stream",
     "text": [
      "2\n"
     ]
    }
   ],
   "source": [
    "print(next(num_list))"
   ]
  },
  {
   "cell_type": "code",
   "execution_count": 4,
   "id": "f3345740-307f-4163-a09f-e199d6109bc6",
   "metadata": {},
   "outputs": [
    {
     "name": "stdout",
     "output_type": "stream",
     "text": [
      "4\n"
     ]
    }
   ],
   "source": [
    "print(next(num_list))"
   ]
  },
  {
   "cell_type": "code",
   "execution_count": 5,
   "id": "abba816f-c3e4-4fe5-a45e-3a8d740b3bb7",
   "metadata": {},
   "outputs": [
    {
     "name": "stdout",
     "output_type": "stream",
     "text": [
      "6\n"
     ]
    }
   ],
   "source": [
    "print(next(num_list))"
   ]
  },
  {
   "cell_type": "code",
   "execution_count": 6,
   "id": "4be8999c-f1a1-4add-81fd-749552f4be85",
   "metadata": {},
   "outputs": [
    {
     "name": "stdout",
     "output_type": "stream",
     "text": [
      "8\n"
     ]
    }
   ],
   "source": [
    "print(next(num_list))"
   ]
  },
  {
   "cell_type": "code",
   "execution_count": 7,
   "id": "d271b5d2-7086-4a82-b2bf-7d7aa1f9c8f7",
   "metadata": {},
   "outputs": [
    {
     "name": "stdout",
     "output_type": "stream",
     "text": [
      "10\n"
     ]
    }
   ],
   "source": [
    "print(next(num_list))"
   ]
  },
  {
   "cell_type": "markdown",
   "id": "ba4bb0f9-4208-4d3e-b3e6-5bdc31a0be45",
   "metadata": {},
   "source": [
    "## Q4. What is a generator function in python? Why yield keyword is used? Give an example of a generator function."
   ]
  },
  {
   "cell_type": "markdown",
   "id": "ade06b9c-05c4-48cc-99d5-480c26b69786",
   "metadata": {},
   "source": [
    "#### A Generator is a fuction that returns a iterator that produces a sequence of values when iterated over.\n",
    "#### Yield keyword helps to do custom stateful iteration over a collection."
   ]
  },
  {
   "cell_type": "code",
   "execution_count": 18,
   "id": "8a803292-d707-42fb-b862-1a376865df9d",
   "metadata": {},
   "outputs": [],
   "source": [
    "def fib(n):\n",
    "    a,b = 0,1\n",
    "    for i in range(n):\n",
    "        yield a\n",
    "        a,b = b,a+b"
   ]
  },
  {
   "cell_type": "code",
   "execution_count": 20,
   "id": "fe64d4cd-33bf-498f-ac5c-681a4ae9a4bb",
   "metadata": {},
   "outputs": [
    {
     "name": "stdout",
     "output_type": "stream",
     "text": [
      "0\n",
      "1\n",
      "1\n",
      "2\n",
      "3\n",
      "5\n",
      "8\n",
      "13\n",
      "21\n",
      "34\n"
     ]
    }
   ],
   "source": [
    "f = fib(10)\n",
    "for i in f:\n",
    "    print(i)"
   ]
  },
  {
   "cell_type": "markdown",
   "id": "87c78c76-f6aa-4616-991f-05251ecbee69",
   "metadata": {},
   "source": [
    "## Q5. Create a generator function for prime numbers less than 1000. Use the next() method to print the first 20 prime numbers."
   ]
  },
  {
   "cell_type": "code",
   "execution_count": 81,
   "id": "d43352bc-7e8e-4a2a-9637-0c8a98f70600",
   "metadata": {},
   "outputs": [],
   "source": [
    "def primes():\n",
    "    yield 2\n",
    "    yield 3\n",
    "    n = 5\n",
    "    while n < 1000:\n",
    "        is_prime = True\n",
    "        for i in range(2, int(n**0.5) + 1):\n",
    "            if n % i == 0:\n",
    "                is_prime = False\n",
    "                break\n",
    "        if is_prime:\n",
    "            yield n\n",
    "        n += 2"
   ]
  },
  {
   "cell_type": "code",
   "execution_count": 82,
   "id": "14d7bd68-83af-4d26-88a9-ebdcb22830bf",
   "metadata": {},
   "outputs": [
    {
     "name": "stdout",
     "output_type": "stream",
     "text": [
      "2\n",
      "3\n",
      "5\n",
      "7\n",
      "11\n",
      "13\n",
      "17\n",
      "19\n",
      "23\n",
      "29\n",
      "31\n",
      "37\n",
      "41\n",
      "43\n",
      "47\n",
      "53\n",
      "59\n",
      "61\n",
      "67\n",
      "71\n"
     ]
    }
   ],
   "source": [
    "p = primes()\n",
    "for i in range(20):\n",
    "    print(next(p))"
   ]
  },
  {
   "cell_type": "markdown",
   "id": "899c556e-7b98-449c-8d1d-25d15db3cc49",
   "metadata": {},
   "source": [
    "## Q6. Write a python program to print the first 10 Fibonacci numbers using a while loop."
   ]
  },
  {
   "cell_type": "code",
   "execution_count": null,
   "id": "ca7711ea-e3f3-4bf5-91e1-492b785daf80",
   "metadata": {},
   "outputs": [],
   "source": []
  },
  {
   "cell_type": "code",
   "execution_count": 15,
   "id": "8d46a6c9-dee8-4234-81e0-c644db6a374d",
   "metadata": {},
   "outputs": [
    {
     "name": "stdout",
     "output_type": "stream",
     "text": [
      "0\n",
      "1\n",
      "1\n",
      "2\n",
      "3\n",
      "5\n",
      "8\n",
      "13\n",
      "21\n",
      "34\n"
     ]
    }
   ],
   "source": [
    "a = 0\n",
    "b = 1\n",
    "i = 0\n",
    "while(i < 10):\n",
    "    print(a)\n",
    "    c = a + b\n",
    "    a = b\n",
    "    b = c\n",
    "    i = i + 1\n",
    "    "
   ]
  },
  {
   "cell_type": "markdown",
   "id": "55bfef04-1573-4af1-b241-b4905cae0751",
   "metadata": {},
   "source": [
    "## Q7. Write a List Comprehension to iterate through the given string: ‘pwskills’. Expected output: ['p', 'w', 's', 'k', 'i', 'l', 'l', 's']"
   ]
  },
  {
   "cell_type": "code",
   "execution_count": 16,
   "id": "95c7de91-f7a8-4512-ad87-dc711fb1a3e0",
   "metadata": {},
   "outputs": [
    {
     "data": {
      "text/plain": [
       "['p', 'w', 's', 'k', 'i', 'l', 'l', 's']"
      ]
     },
     "execution_count": 16,
     "metadata": {},
     "output_type": "execute_result"
    }
   ],
   "source": [
    "[i for i in \"pwskills\"]"
   ]
  },
  {
   "cell_type": "markdown",
   "id": "e9c83cc9-fe90-4a6d-b557-416b1044aec8",
   "metadata": {},
   "source": [
    "## Q8. Write a python program to check whether a given number is Palindrome or not using a while loop."
   ]
  },
  {
   "cell_type": "code",
   "execution_count": 23,
   "id": "5af1b94c-b61f-43ee-a001-f2360333565c",
   "metadata": {},
   "outputs": [
    {
     "name": "stdin",
     "output_type": "stream",
     "text": [
      "Enter a Number : 434\n"
     ]
    },
    {
     "name": "stdout",
     "output_type": "stream",
     "text": [
      "434 is Palindrome\n"
     ]
    }
   ],
   "source": [
    "\n",
    "n = int(input('Enter a Number :'))\n",
    "def reverse(n):\n",
    "    reverse = 0\n",
    "    while(n > 0):\n",
    "        temp = n % 10\n",
    "        reverse = reverse * 10 + temp\n",
    "        n = n // 10\n",
    "    return reverse    \n",
    "\n",
    "if n == reverse(n):\n",
    "    print(f'{n} is Palindrome')\n",
    "else:\n",
    "    print(f'{n} is Palindrome')"
   ]
  },
  {
   "cell_type": "markdown",
   "id": "0cf00a18-d489-4f67-9128-ef240887de38",
   "metadata": {},
   "source": [
    "## Q9. Write a code to print odd numbers from 1 to 100 using list comprehension. Note: Use a list comprehension to create a list from 1 to 100 and use another List comprehension to filter out odd numbers."
   ]
  },
  {
   "cell_type": "code",
   "execution_count": 10,
   "id": "85a53732-9ad1-4060-8c32-a3b2760850cb",
   "metadata": {},
   "outputs": [],
   "source": [
    "l1 = [i for i in range(1,101)]"
   ]
  },
  {
   "cell_type": "code",
   "execution_count": 14,
   "id": "bc46d330-a85a-414c-ae71-01bb1c17be92",
   "metadata": {},
   "outputs": [
    {
     "data": {
      "text/plain": [
       "[1,\n",
       " 3,\n",
       " 5,\n",
       " 7,\n",
       " 9,\n",
       " 11,\n",
       " 13,\n",
       " 15,\n",
       " 17,\n",
       " 19,\n",
       " 21,\n",
       " 23,\n",
       " 25,\n",
       " 27,\n",
       " 29,\n",
       " 31,\n",
       " 33,\n",
       " 35,\n",
       " 37,\n",
       " 39,\n",
       " 41,\n",
       " 43,\n",
       " 45,\n",
       " 47,\n",
       " 49,\n",
       " 51,\n",
       " 53,\n",
       " 55,\n",
       " 57,\n",
       " 59,\n",
       " 61,\n",
       " 63,\n",
       " 65,\n",
       " 67,\n",
       " 69,\n",
       " 71,\n",
       " 73,\n",
       " 75,\n",
       " 77,\n",
       " 79,\n",
       " 81,\n",
       " 83,\n",
       " 85,\n",
       " 87,\n",
       " 89,\n",
       " 91,\n",
       " 93,\n",
       " 95,\n",
       " 97,\n",
       " 99]"
      ]
     },
     "execution_count": 14,
     "metadata": {},
     "output_type": "execute_result"
    }
   ],
   "source": [
    "[i for i in l1 if i % 2 != 0 ]"
   ]
  },
  {
   "cell_type": "code",
   "execution_count": null,
   "id": "afe513ce-a8f6-43c9-bd3c-c9a7456083a9",
   "metadata": {},
   "outputs": [],
   "source": []
  }
 ],
 "metadata": {
  "kernelspec": {
   "display_name": "Python 3 (ipykernel)",
   "language": "python",
   "name": "python3"
  },
  "language_info": {
   "codemirror_mode": {
    "name": "ipython",
    "version": 3
   },
   "file_extension": ".py",
   "mimetype": "text/x-python",
   "name": "python",
   "nbconvert_exporter": "python",
   "pygments_lexer": "ipython3",
   "version": "3.10.8"
  }
 },
 "nbformat": 4,
 "nbformat_minor": 5
}
