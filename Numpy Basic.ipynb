{
 "cells": [
  {
   "cell_type": "markdown",
   "id": "c2dc5114-3a91-4185-87ce-44c2fd3df84f",
   "metadata": {},
   "source": [
    "## * Consider the below code to answer further questions:"
   ]
  },
  {
   "cell_type": "code",
   "execution_count": 13,
   "id": "3ae2a645-59b9-4e2f-b3f4-bebfdf84b464",
   "metadata": {},
   "outputs": [],
   "source": [
    "import numpy as np\n",
    "list_ = [ '1' , '2' , '3' , '4' , '5' ]\n",
    "array_list = np.array(object = list_)"
   ]
  },
  {
   "cell_type": "markdown",
   "id": "aada99a0-abe2-415d-a8bf-712e1b6ab4d4",
   "metadata": {},
   "source": [
    "## Q1. Is there any difference in the data type of variables list_ and array_list? If there is then write a code to print the data types of both the variables."
   ]
  },
  {
   "cell_type": "markdown",
   "id": "bb2263d7-dbf3-427a-bf28-c0428014d559",
   "metadata": {},
   "source": [
    "## Ans 1. Yes, There is a difference between list_ and array_list \n",
    "## A list can contain any type of data but An array contains only similar type of data.\n"
   ]
  },
  {
   "cell_type": "code",
   "execution_count": 7,
   "id": "777aa9a1-9ce0-46c0-9c9e-63902daec43f",
   "metadata": {},
   "outputs": [
    {
     "name": "stdout",
     "output_type": "stream",
     "text": [
      "<class 'list'>\n",
      "<class 'numpy.ndarray'>\n"
     ]
    }
   ],
   "source": [
    "print(type(list_))\n",
    "print(type(array_list))"
   ]
  },
  {
   "cell_type": "markdown",
   "id": "60104afb-bac8-44f4-8da6-614db472150f",
   "metadata": {},
   "source": [
    "## Q2. Write a code to print the data type of each and every element of both the variables list_ and arra_list.\n"
   ]
  },
  {
   "cell_type": "code",
   "execution_count": 12,
   "id": "0e5c8386-206b-470e-9a4c-5dbac0a740b8",
   "metadata": {},
   "outputs": [
    {
     "name": "stdout",
     "output_type": "stream",
     "text": [
      "Data Types of each element in list_\n",
      "<class 'str'>\n",
      "<class 'str'>\n",
      "<class 'str'>\n",
      "<class 'str'>\n",
      "<class 'str'>\n",
      "Data Types of each element in array_list\n",
      "<class 'numpy.str_'>\n",
      "<class 'numpy.str_'>\n",
      "<class 'numpy.str_'>\n",
      "<class 'numpy.str_'>\n",
      "<class 'numpy.str_'>\n"
     ]
    }
   ],
   "source": [
    "## Ans 2.\n",
    "print(\"Data Types of each element in list_\")\n",
    "for i in list_:\n",
    "    print(type(i))\n",
    "print(\"Data Types of each element in array_list\")    \n",
    "for i in array_list:\n",
    "    print(type(i))"
   ]
  },
  {
   "cell_type": "markdown",
   "id": "9daa3c0a-4185-41d7-b7c9-584bf79bb736",
   "metadata": {},
   "source": [
    "## Q3. Considering the following changes in the variable, array_list:\n"
   ]
  },
  {
   "cell_type": "code",
   "execution_count": 21,
   "id": "c2508167-7dab-4a51-9de1-30cb38e95da7",
   "metadata": {},
   "outputs": [],
   "source": [
    "array_list = np.array(object = list_, dtype = int)"
   ]
  },
  {
   "cell_type": "markdown",
   "id": "b7245d32-f1cc-4c88-9d88-23882edd9a68",
   "metadata": {},
   "source": [
    "### Will there be any difference in the data type of the elements present in both the variables, list_ and arra_list? If so then print the data types of each and every element present in both the variables, list_ and arra_list. Consider the below code to answer further questions:\n"
   ]
  },
  {
   "cell_type": "code",
   "execution_count": 17,
   "id": "a57276df-305a-486f-bd32-00b166875454",
   "metadata": {},
   "outputs": [],
   "source": [
    "import numpy as np\n",
    "num_list = [ [ 1 , 2 , 3 ] , [ 4 , 5 , 6 ] ]\n",
    "num_array = np.array(object = num_list)\n"
   ]
  },
  {
   "cell_type": "markdown",
   "id": "bc22ed9f-5f29-42aa-b669-3c68a1995d80",
   "metadata": {},
   "source": [
    "## Ans 3. Yes, There is a difference between the elements of list_ and array_list. Now the data type of elements of array_list becomes 'Integer'"
   ]
  },
  {
   "cell_type": "code",
   "execution_count": 22,
   "id": "d8d05676-556d-48c6-8571-3ce795388f24",
   "metadata": {},
   "outputs": [
    {
     "name": "stdout",
     "output_type": "stream",
     "text": [
      "<class 'str'>\n",
      "<class 'str'>\n",
      "<class 'str'>\n",
      "<class 'str'>\n",
      "<class 'str'>\n",
      "<class 'numpy.int64'>\n",
      "<class 'numpy.int64'>\n",
      "<class 'numpy.int64'>\n",
      "<class 'numpy.int64'>\n",
      "<class 'numpy.int64'>\n"
     ]
    }
   ],
   "source": [
    "for i in list_:\n",
    "    print(type(i))\n",
    "for i in array_list:\n",
    "    print(type(i))"
   ]
  },
  {
   "cell_type": "markdown",
   "id": "b06949ad-68d6-4c55-8e7b-b25b07bf1ac4",
   "metadata": {},
   "source": [
    "## Q4. Write a code to find the following characteristics of variable, num_array:\n",
    "### (i) shape\n",
    "### (ii) size"
   ]
  },
  {
   "cell_type": "code",
   "execution_count": 30,
   "id": "f6ddcc08-dd81-40af-9907-af761f036be8",
   "metadata": {},
   "outputs": [
    {
     "name": "stdout",
     "output_type": "stream",
     "text": [
      "Shape of num array is (2, 3)\n",
      "Size of num array is 6\n"
     ]
    }
   ],
   "source": [
    "## Ans 4.\n",
    "print(f'Shape of num array is {np.shape(num_array)}')\n",
    "print(f'Size of num array is {np.size(num_array)}')\n"
   ]
  },
  {
   "cell_type": "markdown",
   "id": "869c9f01-e133-4113-8f28-f47c8070d749",
   "metadata": {},
   "source": [
    "## Q5. Write a code to create numpy array of 3*3 matrix containing zeros only, using a numpy array creation function.\n",
    "### [Hint: The size of the array will be 9 and the shape will be (3,3).]\n"
   ]
  },
  {
   "cell_type": "code",
   "execution_count": 36,
   "id": "6e16d592-dbb7-46a7-82de-83832efbea3c",
   "metadata": {},
   "outputs": [
    {
     "name": "stdout",
     "output_type": "stream",
     "text": [
      "[[0. 0. 0.]\n",
      " [0. 0. 0.]\n",
      " [0. 0. 0.]]\n"
     ]
    }
   ],
   "source": [
    "## Ans 5.\n",
    "print(np.zeros((3, 3)))"
   ]
  },
  {
   "cell_type": "markdown",
   "id": "99b6415d-292b-4e98-a9ef-430ec1f13ce5",
   "metadata": {},
   "source": [
    "## Q6. Create an identity matrix of shape (5,5) using numpy functions?\n",
    "### [Hint: An identity matrix is a matrix containing 1 diagonally and other elements will be 0.]"
   ]
  },
  {
   "cell_type": "code",
   "execution_count": 37,
   "id": "b67c821f-c0b2-42f2-b568-d2a5ce03b64d",
   "metadata": {},
   "outputs": [
    {
     "name": "stdout",
     "output_type": "stream",
     "text": [
      "[[1. 0. 0. 0. 0.]\n",
      " [0. 1. 0. 0. 0.]\n",
      " [0. 0. 1. 0. 0.]\n",
      " [0. 0. 0. 1. 0.]\n",
      " [0. 0. 0. 0. 1.]]\n"
     ]
    }
   ],
   "source": [
    "## Ans 6.\n",
    "print(np.identity(5))\n"
   ]
  }
 ],
 "metadata": {
  "kernelspec": {
   "display_name": "Python 3 (ipykernel)",
   "language": "python",
   "name": "python3"
  },
  "language_info": {
   "codemirror_mode": {
    "name": "ipython",
    "version": 3
   },
   "file_extension": ".py",
   "mimetype": "text/x-python",
   "name": "python",
   "nbconvert_exporter": "python",
   "pygments_lexer": "ipython3",
   "version": "3.10.8"
  }
 },
 "nbformat": 4,
 "nbformat_minor": 5
}
