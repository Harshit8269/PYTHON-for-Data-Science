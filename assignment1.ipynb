{
 "cells": [
  {
   "cell_type": "markdown",
   "id": "f325dcca-00b7-48db-ae7b-19e5b20b567e",
   "metadata": {},
   "source": [
    "## 1. Who developed python programmimg language?\n",
    "### Guido van rossum"
   ]
  },
  {
   "cell_type": "markdown",
   "id": "a683926e-7adf-4943-af99-a115e73888cd",
   "metadata": {},
   "source": [
    "## 2. Which type of programming python support\n",
    "### Python supports Object Oriented Programming and Strutured Programming. "
   ]
  },
  {
   "cell_type": "markdown",
   "id": "92f4e328-3458-4e74-88fe-d50f4b64bcc2",
   "metadata": {},
   "source": [
    "## 3. Is python case sensitive when dealing with identifiers?\n",
    "### Yes Python is case sensitive.It treats upper case and lower case differently."
   ]
  },
  {
   "cell_type": "markdown",
   "id": "548b615b-7b88-4c44-b557-6ba6caef46ca",
   "metadata": {},
   "source": [
    "## 4. What is the correct extension of python file?\n",
    "### .py for python files and .ipynb for notebooks"
   ]
  },
  {
   "cell_type": "markdown",
   "id": "21f6066a-77e4-4ad5-b855-9b777662a3bd",
   "metadata": {},
   "source": [
    "## 5. Is python code compiled or interpreted?\n",
    "### Python is both compiled as well as interpreted language."
   ]
  },
  {
   "cell_type": "markdown",
   "id": "02cd6abb-f67d-45b2-afff-b7487b46e88a",
   "metadata": {},
   "source": [
    "## 6. Name a few blocks of code used to define in python language?\n",
    "### Block of code may be a function body, module and class defination."
   ]
  },
  {
   "cell_type": "markdown",
   "id": "34aec9c4-bf98-4a72-913a-fc52e76f43a6",
   "metadata": {},
   "source": [
    "## 7. State a character used to give single line character?\n",
    "### character '#'"
   ]
  },
  {
   "cell_type": "markdown",
   "id": "1053e462-4d48-494d-bbad-c431fc35a640",
   "metadata": {},
   "source": [
    "## 8. Mention fuctions which can help us to find the version of python that we are currently working on?\n",
    "###  The function sys. version can help us to find the version of python that we are currently working on."
   ]
  },
  {
   "cell_type": "markdown",
   "id": "01e5da12-f032-4306-bba9-e4f3dd0dd733",
   "metadata": {},
   "source": [
    "## 9. Python supports the creation of anonymous functions at run time, using a contrast called __________\n",
    "### lambda"
   ]
  },
  {
   "cell_type": "markdown",
   "id": "28c522df-7017-49b0-b402-0f65285f21a6",
   "metadata": {},
   "source": [
    "## 10. What does pip stand for python?\n",
    "### It stands for “preferred installer program” or “Pip Installs Packages\"."
   ]
  },
  {
   "cell_type": "markdown",
   "id": "d30aa485-a7e4-417b-b880-f3e7b9ff3a43",
   "metadata": {},
   "source": [
    "## 11. Mention a few buit-in fuctions in python ? \n",
    "### print(),input(),max(),min(),len(),count() etc."
   ]
  },
  {
   "cell_type": "markdown",
   "id": "38764743-1bf3-4715-8b94-4e942ad5d2bf",
   "metadata": {},
   "source": [
    "## 12. What is the maximum possible length of an identifier in python\n",
    "### 79 characters"
   ]
  },
  {
   "cell_type": "markdown",
   "id": "66adc976-defd-4eae-a112-1827c3d9388f",
   "metadata": {},
   "source": [
    "## 13. What are the benefits of using python ?\n",
    "### * Easy to Use and Learn.\n",
    "### * Large developer Community.\n",
    "### * Can be used in different fields like Webdevelopment,data science, Analytics , Visualization,Scientific Computing etc. \n",
    "### * Huge libraries, modules and built-in fuctions"
   ]
  },
  {
   "cell_type": "markdown",
   "id": "987fd180-4ce3-4a91-9088-0af05132c784",
   "metadata": {},
   "source": [
    "## 14. How is memory managed in python ?\n",
    "### Python uses a portion of the memory for internal use and non-object memory."
   ]
  },
  {
   "cell_type": "markdown",
   "id": "7c06cbcd-b85f-49e1-8d71-f5e430972c52",
   "metadata": {},
   "source": [
    "## 15. How to install pyhton on windows and set path variable?\n",
    "### Python can be download from python.org and install.\n",
    "### The complete path of python.exe can be added by:\n",
    "### * Right-clicking This PC and going to Properties.\n",
    "### * Clicking on the Advanced system settings in the menu on the left.\n",
    "### * Clicking on the Environment Variables button o​n the bottom right.\n",
    "### * In the System variables section, selecting the Path variable and clicking on Edit."
   ]
  },
  {
   "cell_type": "markdown",
   "id": "686c39aa-a174-490a-aed3-5d6f24e83bcc",
   "metadata": {},
   "source": [
    "## 16. Is indentation required in python?\n",
    "### Yes Indention is required in python because to separate blocks of code."
   ]
  },
  {
   "cell_type": "code",
   "execution_count": null,
   "id": "cfca2e4c-e459-48e9-81f7-83840bb44467",
   "metadata": {},
   "outputs": [],
   "source": []
  }
 ],
 "metadata": {
  "kernelspec": {
   "display_name": "Python 3 (ipykernel)",
   "language": "python",
   "name": "python3"
  },
  "language_info": {
   "codemirror_mode": {
    "name": "ipython",
    "version": 3
   },
   "file_extension": ".py",
   "mimetype": "text/x-python",
   "name": "python",
   "nbconvert_exporter": "python",
   "pygments_lexer": "ipython3",
   "version": "3.10.8"
  }
 },
 "nbformat": 4,
 "nbformat_minor": 5
}
