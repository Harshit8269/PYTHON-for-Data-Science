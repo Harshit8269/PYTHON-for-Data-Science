{
 "cells": [
  {
   "cell_type": "markdown",
   "id": "5c7670ee-60b3-4fd5-951f-91b820dfb639",
   "metadata": {},
   "source": [
    "### Q1. Explain Class and Object with respect to Object-Oriented Programming. Give a suitable example.\n"
   ]
  },
  {
   "cell_type": "markdown",
   "id": "c2c1dc48-cad0-4b0f-83e7-c88e65f42266",
   "metadata": {},
   "source": [
    "#### Class creates a user-defined data structure, which holds its own data members and member functions, which can be accessed and used by creating an instance of that class. A class is like a blueprint for an object. Object is a real time entity which can be anything."
   ]
  },
  {
   "cell_type": "code",
   "execution_count": 4,
   "id": "2ce784a3-cf2b-4a12-803a-23cd876cfd01",
   "metadata": {},
   "outputs": [
    {
     "name": "stdout",
     "output_type": "stream",
     "text": [
      "mammal\n",
      "I'm a mammal\n",
      "I'm a dog\n"
     ]
    }
   ],
   "source": [
    "class Dog:\n",
    " \n",
    "    a = \"mammal\"\n",
    "    b = \"dog\"\n",
    " \n",
    "    def fun(self):\n",
    "        print(\"I'm a\", self.a)\n",
    "        print(\"I'm a\", self.b)\n",
    " \n",
    "Tommy = Dog()\n",
    "\n",
    "print(Tommy.a)\n",
    "Tommy.fun()"
   ]
  },
  {
   "cell_type": "markdown",
   "id": "3530f00c-8f5a-41b1-aeb8-3a21c889ac84",
   "metadata": {},
   "source": [
    "### Q2. Name the four pillars of OOPs.\n"
   ]
  },
  {
   "cell_type": "markdown",
   "id": "686407f4-4ac2-4aa6-acf9-d2677addcd78",
   "metadata": {},
   "source": [
    "#### Following are the four pillars of OOPs:\n",
    "#### 1) Encapsulation\n",
    "#### 2) Inheritance\n",
    "#### 3) Polymorphism\n",
    "#### 4) Abstraction"
   ]
  },
  {
   "cell_type": "markdown",
   "id": "b0cee3e3-9273-4cb2-8dfe-992e2670cf08",
   "metadata": {},
   "source": [
    "### Q3. Explain why the __init__() function is used. Give a suitable example.\n"
   ]
  },
  {
   "cell_type": "markdown",
   "id": "e6516ed5-0410-437c-ad57-d62915215be5",
   "metadata": {},
   "source": [
    "### Init() function is used to define a function in a class which calls itself.It is also called default contstructor in python."
   ]
  },
  {
   "cell_type": "code",
   "execution_count": 3,
   "id": "04bd37fa-b260-440f-9e5a-2047a1df015d",
   "metadata": {},
   "outputs": [
    {
     "name": "stdout",
     "output_type": "stream",
     "text": [
      "Hi Tom\n"
     ]
    }
   ],
   "source": [
    "class animal():\n",
    "    \n",
    "    def __init__(self, name):\n",
    "        self.name = name\n",
    "     \n",
    "    def say_hi(self):\n",
    "        print('Hi',self.name)\n",
    "        \n",
    "a = animal('Tom') \n",
    "a.say_hi()"
   ]
  },
  {
   "cell_type": "markdown",
   "id": "6a6f77b5-9151-42ff-a59d-6c5983e8044e",
   "metadata": {},
   "source": [
    "### Q4. Why self is used in OOPs?\n"
   ]
  },
  {
   "cell_type": "markdown",
   "id": "1d352d29-e22d-439d-a40c-417a9842d2c4",
   "metadata": {},
   "source": [
    "### self is used to represent the instance of class.It works as a reference to the object. "
   ]
  },
  {
   "cell_type": "markdown",
   "id": "aef7133e-7c59-4706-a014-43d7083a5c32",
   "metadata": {},
   "source": [
    "### Q5. What is inheritance? Give an example for each type of inheritance."
   ]
  },
  {
   "cell_type": "markdown",
   "id": "3892fe5d-e4a1-42b9-a210-77dd34b53c49",
   "metadata": {},
   "source": [
    "### Inheritance is used to inherit the methods and properties of one class to another."
   ]
  },
  {
   "cell_type": "code",
   "execution_count": 6,
   "id": "16d15530-b03b-4d97-a41b-a241b497b1cc",
   "metadata": {},
   "outputs": [
    {
     "name": "stdout",
     "output_type": "stream",
     "text": [
      "this is class A method\n"
     ]
    }
   ],
   "source": [
    "## Single Inheritance\n",
    "class a:\n",
    "    def p(self):\n",
    "        print(\"this is class A method\")\n",
    "class b(a):\n",
    "    pass\n",
    "\n",
    "obj = b()\n",
    "obj.p()"
   ]
  },
  {
   "cell_type": "code",
   "execution_count": 9,
   "id": "939f511c-27cd-479d-ae2a-2dd65c14bb29",
   "metadata": {},
   "outputs": [
    {
     "name": "stdout",
     "output_type": "stream",
     "text": [
      "This is class X\n",
      "This is class Y\n"
     ]
    }
   ],
   "source": [
    "## Multi level Inheritance\n",
    "class x:\n",
    "    def q(self):\n",
    "        print(\"This is class X\")\n",
    "class y(x):\n",
    "    def w(self):\n",
    "        print(\"This is class Y\")\n",
    "class z(y):\n",
    "    pass\n",
    "\n",
    "obj2 = z()\n",
    "obj2.q()\n",
    "obj2.w()"
   ]
  },
  {
   "cell_type": "code",
   "execution_count": 15,
   "id": "770f13fd-909f-45f2-a3c1-a95b35399640",
   "metadata": {},
   "outputs": [
    {
     "name": "stdout",
     "output_type": "stream",
     "text": [
      "This is father class\n",
      "This is mother class\n"
     ]
    }
   ],
   "source": [
    "## Multiple Inheritance\n",
    "class Mother:\n",
    "    def m(self):\n",
    "        print(\"This is mother class\")\n",
    "class Father:\n",
    "    def f(self):\n",
    "        print(\"This is father class\")\n",
    "class son(Mother, Father):\n",
    "    pass\n",
    "obj3 = son()\n",
    "obj3.f()\n",
    "obj3.m()"
   ]
  },
  {
   "cell_type": "code",
   "execution_count": 24,
   "id": "7fa03466-126e-45a5-b5b2-e1f5a2dbbbfa",
   "metadata": {},
   "outputs": [
    {
     "name": "stdout",
     "output_type": "stream",
     "text": [
      "This function is in parent class.\n",
      "This function is in child 1.\n",
      "This function is in parent class.\n",
      "This function is in child 2.\n"
     ]
    }
   ],
   "source": [
    "## Hierarichal Inheritance\n",
    "class Parent:\n",
    "    def func1(self):\n",
    "        print(\"This function is in parent class.\")\n",
    " \n",
    "class Child1(Parent):\n",
    "    def func2(self):\n",
    "        print(\"This function is in child 1.\")\n",
    " \n",
    "class Child2(Parent):\n",
    "    def func3(self):\n",
    "        print(\"This function is in child 2.\")\n",
    "        \n",
    "obj4 = Child1()\n",
    "obj5 = Child2()\n",
    "obj4.func1()\n",
    "obj4.func2()\n",
    "obj5.func1()\n",
    "obj5.func3()"
   ]
  },
  {
   "cell_type": "code",
   "execution_count": 27,
   "id": "ed9321da-dc2b-48e5-b3d3-7addce740e6b",
   "metadata": {},
   "outputs": [
    {
     "name": "stdout",
     "output_type": "stream",
     "text": [
      "This function is in parent class.\n",
      "This function is in child 1.\n"
     ]
    }
   ],
   "source": [
    "## Hybrid Inheritance\n",
    "class Parent:\n",
    "    def func1(self):\n",
    "        print(\"This function is in parent class.\")\n",
    " \n",
    "class Child1(Parent):\n",
    "    def func2(self):\n",
    "        print(\"This function is in child 1.\")\n",
    " \n",
    "class Child2(Parent):\n",
    "    def func3(self):\n",
    "        print(\"This function is in child 2.\")\n",
    "class child_of_child1(Child1, Parent):\n",
    "    pass\n",
    "obj6 = child_of_child1()\n",
    "obj6.func1()\n",
    "obj6.func2()"
   ]
  },
  {
   "cell_type": "code",
   "execution_count": null,
   "id": "fc5126fb-3ab4-455a-b67e-0713b4388e15",
   "metadata": {},
   "outputs": [],
   "source": []
  }
 ],
 "metadata": {
  "kernelspec": {
   "display_name": "Python 3 (ipykernel)",
   "language": "python",
   "name": "python3"
  },
  "language_info": {
   "codemirror_mode": {
    "name": "ipython",
    "version": 3
   },
   "file_extension": ".py",
   "mimetype": "text/x-python",
   "name": "python",
   "nbconvert_exporter": "python",
   "pygments_lexer": "ipython3",
   "version": "3.10.8"
  }
 },
 "nbformat": 4,
 "nbformat_minor": 5
}
