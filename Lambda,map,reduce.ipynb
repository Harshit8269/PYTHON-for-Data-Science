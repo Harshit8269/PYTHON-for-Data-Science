{
 "cells": [
  {
   "cell_type": "markdown",
   "id": "4fe93e12-b4b9-41ff-8dc8-95ca64da225b",
   "metadata": {},
   "source": [
    "## Q1. Create a python program to sort the given list of tuples based on integer value using a lambda function.  [('Sachin Tendulkar', 34357), ('Ricky Ponting', 27483), ('Jack Kallis', 25534), ('Virat Kohli', 24936)]"
   ]
  },
  {
   "cell_type": "code",
   "execution_count": 34,
   "id": "116e74a4-c019-4749-973a-a9a989f94b3b",
   "metadata": {},
   "outputs": [
    {
     "name": "stdout",
     "output_type": "stream",
     "text": [
      "[('Virat Kohli', 24936), ('Jack Kallis', 25534), ('Ricky Ponting', 27483), ('Sachin Tendulkar', 34357)]\n"
     ]
    }
   ],
   "source": [
    "l1 = [('Sachin Tendulkar', 34357), ('Ricky Ponting', 27483), ('Jack Kallis', 25534), ('Virat Kohli', 24936)]\n",
    "def Sort_Tuple(tup): \n",
    "    tup.sort(key = lambda x: x[1]) \n",
    "    return tup \n",
    "\n",
    "print(Sort_Tuple(l1)) \n"
   ]
  },
  {
   "cell_type": "markdown",
   "id": "d28031b4-457a-41f7-8a59-d1d36fac6518",
   "metadata": {},
   "source": [
    "## Q2. Write a Python Program to find the squares of all the numbers in the given list of integers using lambda and map functions.\n",
    "### [1, 2, 3, 4, 5, 6, 7, 8, 9, 10]"
   ]
  },
  {
   "cell_type": "code",
   "execution_count": 12,
   "id": "bdfc13bc-1dcc-4b44-a64b-2b102cf2fecf",
   "metadata": {},
   "outputs": [
    {
     "data": {
      "text/plain": [
       "[1, 4, 9, 16, 25, 36, 49, 64, 81, 100]"
      ]
     },
     "execution_count": 12,
     "metadata": {},
     "output_type": "execute_result"
    }
   ],
   "source": [
    "l2 = [1,2,3,4,5,6,7,8,9,10]\n",
    "sq = lambda i : i**2\n",
    "list(map(sq,l2))"
   ]
  },
  {
   "cell_type": "markdown",
   "id": "6e4cd876-c8ca-4f26-a67d-12c6b30aae92",
   "metadata": {},
   "source": [
    "## Q3. Write a python program to convert the given list of integers into a tuple of strings. Use map and lambda functions\n",
    "### Given String: [1, 2, 3, 4, 5, 6, 7, 8, 9, 10]\n",
    "### Expected output: ('1', '2', '3', '4', '5', '6', '7', '8', '9', '10')\n"
   ]
  },
  {
   "cell_type": "code",
   "execution_count": 33,
   "id": "9fceed33-1593-4f81-87fb-1abcad490704",
   "metadata": {},
   "outputs": [
    {
     "data": {
      "text/plain": [
       "('1', '2', '3', '4', '5', '6', '7', '8', '9', '10')"
      ]
     },
     "execution_count": 33,
     "metadata": {},
     "output_type": "execute_result"
    }
   ],
   "source": [
    "l3 = [1, 2, 3, 4, 5, 6, 7, 8, 9, 10]\n",
    "st = lambda i : str(i)\n",
    "tuple(map(st, l3))"
   ]
  },
  {
   "cell_type": "markdown",
   "id": "0cec59ad-4f93-4311-a633-e92b371a9786",
   "metadata": {},
   "source": [
    "## Q4. Write a python program using reduce function to compute the product of a list containing numbers from 1 to 25.\n"
   ]
  },
  {
   "cell_type": "code",
   "execution_count": 29,
   "id": "ff4cc130-02b1-4540-bb72-405b4a316c99",
   "metadata": {},
   "outputs": [
    {
     "data": {
      "text/plain": [
       "15511210043330985984000000"
      ]
     },
     "execution_count": 29,
     "metadata": {},
     "output_type": "execute_result"
    }
   ],
   "source": [
    "from functools import reduce \n",
    "l4 = []\n",
    "for i in range(1,26):\n",
    "    l4.append(i)\n",
    "    \n",
    "prod = lambda x, y : x * y    \n",
    "reduce(prod, l4)"
   ]
  },
  {
   "cell_type": "markdown",
   "id": "9d47e36f-e1a6-402d-91b5-f94f5d0ca153",
   "metadata": {},
   "source": [
    "## Q5. Write a python program to filter the numbers in a given list that are divisible by 2 and 3 using the filter function. \n",
    "### [2, 3, 6, 9, 27, 60, 90, 120, 55, 46]\n"
   ]
  },
  {
   "cell_type": "code",
   "execution_count": 28,
   "id": "0292f2e4-64ec-4b9e-82d7-1b565e47a060",
   "metadata": {},
   "outputs": [
    {
     "data": {
      "text/plain": [
       "[6, 60, 90, 120]"
      ]
     },
     "execution_count": 28,
     "metadata": {},
     "output_type": "execute_result"
    }
   ],
   "source": [
    "l5 = [2, 3, 6, 9, 27, 60, 90, 120, 55, 46]\n",
    "def div(x):\n",
    "    if x % 2 == 0 and x % 3 == 0:\n",
    "        return True\n",
    "    else:\n",
    "        False\n",
    "l6  = filter(div,l5)    \n",
    "list(l6)"
   ]
  },
  {
   "cell_type": "markdown",
   "id": "260e7eb1-e785-4239-87c5-618c65e17079",
   "metadata": {},
   "source": [
    "## Q6. Write a python program to find palindromes in the given list of strings using lambda and filter function.\n",
    "### ['python', 'php', 'aba', 'radar', 'level']"
   ]
  },
  {
   "cell_type": "code",
   "execution_count": 27,
   "id": "6eebf175-79fd-40e4-a33d-dff4de919e73",
   "metadata": {},
   "outputs": [
    {
     "data": {
      "text/plain": [
       "['php', 'aba', 'radar', 'level']"
      ]
     },
     "execution_count": 27,
     "metadata": {},
     "output_type": "execute_result"
    }
   ],
   "source": [
    "l7 = ['python', 'php', 'aba', 'radar', 'level']\n",
    "palindrom = lambda s: s if s == s[::-1] else None\n",
    "list(filter(palindrom, l7))\n"
   ]
  },
  {
   "cell_type": "code",
   "execution_count": null,
   "id": "5dcd33ca-cd64-4bb9-b46e-26115801e193",
   "metadata": {},
   "outputs": [],
   "source": []
  }
 ],
 "metadata": {
  "kernelspec": {
   "display_name": "Python 3 (ipykernel)",
   "language": "python",
   "name": "python3"
  },
  "language_info": {
   "codemirror_mode": {
    "name": "ipython",
    "version": 3
   },
   "file_extension": ".py",
   "mimetype": "text/x-python",
   "name": "python",
   "nbconvert_exporter": "python",
   "pygments_lexer": "ipython3",
   "version": "3.10.8"
  }
 },
 "nbformat": 4,
 "nbformat_minor": 5
}
